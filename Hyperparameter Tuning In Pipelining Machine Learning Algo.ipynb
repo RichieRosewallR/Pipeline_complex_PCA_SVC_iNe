{
 "cells": [
  {
   "cell_type": "code",
   "execution_count": 2,
   "metadata": {},
   "outputs": [],
   "source": [
    "import numpy as np\n",
    "from sklearn.pipeline import make_pipeline\n",
    "from sklearn.pipeline import Pipeline\n",
    "from sklearn.impute import SimpleImputer\n",
    "from sklearn.compose import ColumnTransformer\n",
    "from sklearn.preprocessing import OneHotEncoder, StandardScaler\n",
    "from sklearn.ensemble import RandomForestRegressor\n",
    "from sklearn.model_selection import GridSearchCV"
   ]
  },
  {
   "cell_type": "code",
   "execution_count": 3,
   "metadata": {},
   "outputs": [],
   "source": [
    "import seaborn as sns"
   ]
  },
  {
   "cell_type": "code",
   "execution_count": 4,
   "metadata": {},
   "outputs": [],
   "source": [
    "df=sns.load_dataset('tips')"
   ]
  },
  {
   "cell_type": "code",
   "execution_count": 5,
   "metadata": {},
   "outputs": [
    {
     "data": {
      "text/html": [
       "<div>\n",
       "<style scoped>\n",
       "    .dataframe tbody tr th:only-of-type {\n",
       "        vertical-align: middle;\n",
       "    }\n",
       "\n",
       "    .dataframe tbody tr th {\n",
       "        vertical-align: top;\n",
       "    }\n",
       "\n",
       "    .dataframe thead th {\n",
       "        text-align: right;\n",
       "    }\n",
       "</style>\n",
       "<table border=\"1\" class=\"dataframe\">\n",
       "  <thead>\n",
       "    <tr style=\"text-align: right;\">\n",
       "      <th></th>\n",
       "      <th>total_bill</th>\n",
       "      <th>tip</th>\n",
       "      <th>sex</th>\n",
       "      <th>smoker</th>\n",
       "      <th>day</th>\n",
       "      <th>time</th>\n",
       "      <th>size</th>\n",
       "    </tr>\n",
       "  </thead>\n",
       "  <tbody>\n",
       "    <tr>\n",
       "      <th>0</th>\n",
       "      <td>16.99</td>\n",
       "      <td>1.01</td>\n",
       "      <td>Female</td>\n",
       "      <td>No</td>\n",
       "      <td>Sun</td>\n",
       "      <td>Dinner</td>\n",
       "      <td>2</td>\n",
       "    </tr>\n",
       "    <tr>\n",
       "      <th>1</th>\n",
       "      <td>10.34</td>\n",
       "      <td>1.66</td>\n",
       "      <td>Male</td>\n",
       "      <td>No</td>\n",
       "      <td>Sun</td>\n",
       "      <td>Dinner</td>\n",
       "      <td>3</td>\n",
       "    </tr>\n",
       "    <tr>\n",
       "      <th>2</th>\n",
       "      <td>21.01</td>\n",
       "      <td>3.50</td>\n",
       "      <td>Male</td>\n",
       "      <td>No</td>\n",
       "      <td>Sun</td>\n",
       "      <td>Dinner</td>\n",
       "      <td>3</td>\n",
       "    </tr>\n",
       "    <tr>\n",
       "      <th>3</th>\n",
       "      <td>23.68</td>\n",
       "      <td>3.31</td>\n",
       "      <td>Male</td>\n",
       "      <td>No</td>\n",
       "      <td>Sun</td>\n",
       "      <td>Dinner</td>\n",
       "      <td>2</td>\n",
       "    </tr>\n",
       "    <tr>\n",
       "      <th>4</th>\n",
       "      <td>24.59</td>\n",
       "      <td>3.61</td>\n",
       "      <td>Female</td>\n",
       "      <td>No</td>\n",
       "      <td>Sun</td>\n",
       "      <td>Dinner</td>\n",
       "      <td>4</td>\n",
       "    </tr>\n",
       "  </tbody>\n",
       "</table>\n",
       "</div>"
      ],
      "text/plain": [
       "   total_bill   tip     sex smoker  day    time  size\n",
       "0       16.99  1.01  Female     No  Sun  Dinner     2\n",
       "1       10.34  1.66    Male     No  Sun  Dinner     3\n",
       "2       21.01  3.50    Male     No  Sun  Dinner     3\n",
       "3       23.68  3.31    Male     No  Sun  Dinner     2\n",
       "4       24.59  3.61  Female     No  Sun  Dinner     4"
      ]
     },
     "execution_count": 5,
     "metadata": {},
     "output_type": "execute_result"
    }
   ],
   "source": [
    "df.head()"
   ]
  },
  {
   "cell_type": "code",
   "execution_count": 6,
   "metadata": {},
   "outputs": [],
   "source": [
    "X=df.iloc[:,1:]\n",
    "y=df['total_bill']"
   ]
  },
  {
   "cell_type": "code",
   "execution_count": 7,
   "metadata": {},
   "outputs": [],
   "source": [
    "from sklearn.model_selection import train_test_split\n",
    "X_train,X_test,y_train,y_test=train_test_split(X,y,test_size=0.2)"
   ]
  },
  {
   "cell_type": "code",
   "execution_count": 18,
   "metadata": {},
   "outputs": [],
   "source": [
    "## Pieplining\n",
    "numeric_preprocessor = Pipeline(\n",
    "    steps=[\n",
    "        (\"imputation_mean\", SimpleImputer(missing_values=np.nan, strategy=\"mean\")),\n",
    "        (\"scaler\", StandardScaler(with_mean=False)),\n",
    "    ]\n",
    ")"
   ]
  },
  {
   "cell_type": "code",
   "execution_count": 19,
   "metadata": {},
   "outputs": [],
   "source": [
    "from sklearn import set_config"
   ]
  },
  {
   "cell_type": "code",
   "execution_count": 20,
   "metadata": {},
   "outputs": [],
   "source": [
    "set_config(display='diagram')"
   ]
  },
  {
   "cell_type": "code",
   "execution_count": 21,
   "metadata": {},
   "outputs": [
    {
     "data": {
      "text/html": [
       "<style>#sk-a1542e7e-f791-4690-9e45-df0e58cccd21 {color: black;background-color: white;}#sk-a1542e7e-f791-4690-9e45-df0e58cccd21 pre{padding: 0;}#sk-a1542e7e-f791-4690-9e45-df0e58cccd21 div.sk-toggleable {background-color: white;}#sk-a1542e7e-f791-4690-9e45-df0e58cccd21 label.sk-toggleable__label {cursor: pointer;display: block;width: 100%;margin-bottom: 0;padding: 0.3em;box-sizing: border-box;text-align: center;}#sk-a1542e7e-f791-4690-9e45-df0e58cccd21 label.sk-toggleable__label-arrow:before {content: \"▸\";float: left;margin-right: 0.25em;color: #696969;}#sk-a1542e7e-f791-4690-9e45-df0e58cccd21 label.sk-toggleable__label-arrow:hover:before {color: black;}#sk-a1542e7e-f791-4690-9e45-df0e58cccd21 div.sk-estimator:hover label.sk-toggleable__label-arrow:before {color: black;}#sk-a1542e7e-f791-4690-9e45-df0e58cccd21 div.sk-toggleable__content {max-height: 0;max-width: 0;overflow: hidden;text-align: left;background-color: #f0f8ff;}#sk-a1542e7e-f791-4690-9e45-df0e58cccd21 div.sk-toggleable__content pre {margin: 0.2em;color: black;border-radius: 0.25em;background-color: #f0f8ff;}#sk-a1542e7e-f791-4690-9e45-df0e58cccd21 input.sk-toggleable__control:checked~div.sk-toggleable__content {max-height: 200px;max-width: 100%;overflow: auto;}#sk-a1542e7e-f791-4690-9e45-df0e58cccd21 input.sk-toggleable__control:checked~label.sk-toggleable__label-arrow:before {content: \"▾\";}#sk-a1542e7e-f791-4690-9e45-df0e58cccd21 div.sk-estimator input.sk-toggleable__control:checked~label.sk-toggleable__label {background-color: #d4ebff;}#sk-a1542e7e-f791-4690-9e45-df0e58cccd21 div.sk-label input.sk-toggleable__control:checked~label.sk-toggleable__label {background-color: #d4ebff;}#sk-a1542e7e-f791-4690-9e45-df0e58cccd21 input.sk-hidden--visually {border: 0;clip: rect(1px 1px 1px 1px);clip: rect(1px, 1px, 1px, 1px);height: 1px;margin: -1px;overflow: hidden;padding: 0;position: absolute;width: 1px;}#sk-a1542e7e-f791-4690-9e45-df0e58cccd21 div.sk-estimator {font-family: monospace;background-color: #f0f8ff;border: 1px dotted black;border-radius: 0.25em;box-sizing: border-box;margin-bottom: 0.5em;}#sk-a1542e7e-f791-4690-9e45-df0e58cccd21 div.sk-estimator:hover {background-color: #d4ebff;}#sk-a1542e7e-f791-4690-9e45-df0e58cccd21 div.sk-parallel-item::after {content: \"\";width: 100%;border-bottom: 1px solid gray;flex-grow: 1;}#sk-a1542e7e-f791-4690-9e45-df0e58cccd21 div.sk-label:hover label.sk-toggleable__label {background-color: #d4ebff;}#sk-a1542e7e-f791-4690-9e45-df0e58cccd21 div.sk-serial::before {content: \"\";position: absolute;border-left: 1px solid gray;box-sizing: border-box;top: 2em;bottom: 0;left: 50%;}#sk-a1542e7e-f791-4690-9e45-df0e58cccd21 div.sk-serial {display: flex;flex-direction: column;align-items: center;background-color: white;padding-right: 0.2em;padding-left: 0.2em;}#sk-a1542e7e-f791-4690-9e45-df0e58cccd21 div.sk-item {z-index: 1;}#sk-a1542e7e-f791-4690-9e45-df0e58cccd21 div.sk-parallel {display: flex;align-items: stretch;justify-content: center;background-color: white;}#sk-a1542e7e-f791-4690-9e45-df0e58cccd21 div.sk-parallel::before {content: \"\";position: absolute;border-left: 1px solid gray;box-sizing: border-box;top: 2em;bottom: 0;left: 50%;}#sk-a1542e7e-f791-4690-9e45-df0e58cccd21 div.sk-parallel-item {display: flex;flex-direction: column;position: relative;background-color: white;}#sk-a1542e7e-f791-4690-9e45-df0e58cccd21 div.sk-parallel-item:first-child::after {align-self: flex-end;width: 50%;}#sk-a1542e7e-f791-4690-9e45-df0e58cccd21 div.sk-parallel-item:last-child::after {align-self: flex-start;width: 50%;}#sk-a1542e7e-f791-4690-9e45-df0e58cccd21 div.sk-parallel-item:only-child::after {width: 0;}#sk-a1542e7e-f791-4690-9e45-df0e58cccd21 div.sk-dashed-wrapped {border: 1px dashed gray;margin: 0 0.4em 0.5em 0.4em;box-sizing: border-box;padding-bottom: 0.4em;background-color: white;position: relative;}#sk-a1542e7e-f791-4690-9e45-df0e58cccd21 div.sk-label label {font-family: monospace;font-weight: bold;background-color: white;display: inline-block;line-height: 1.2em;}#sk-a1542e7e-f791-4690-9e45-df0e58cccd21 div.sk-label-container {position: relative;z-index: 2;text-align: center;}#sk-a1542e7e-f791-4690-9e45-df0e58cccd21 div.sk-container {/* jupyter's `normalize.less` sets `[hidden] { display: none; }` but bootstrap.min.css set `[hidden] { display: none !important; }` so we also need the `!important` here to be able to override the default hidden behavior on the sphinx rendered scikit-learn.org. See: https://github.com/scikit-learn/scikit-learn/issues/21755 */display: inline-block !important;position: relative;}#sk-a1542e7e-f791-4690-9e45-df0e58cccd21 div.sk-text-repr-fallback {display: none;}</style><div id=\"sk-a1542e7e-f791-4690-9e45-df0e58cccd21\" class=\"sk-top-container\"><div class=\"sk-text-repr-fallback\"><pre>Pipeline(steps=[(&#x27;imputation_mean&#x27;, SimpleImputer()),\n",
       "                (&#x27;scaler&#x27;, StandardScaler(with_mean=False))])</pre><b>Please rerun this cell to show the HTML repr or trust the notebook.</b></div><div class=\"sk-container\" hidden><div class=\"sk-item sk-dashed-wrapped\"><div class=\"sk-label-container\"><div class=\"sk-label sk-toggleable\"><input class=\"sk-toggleable__control sk-hidden--visually\" id=\"7e5b045c-61b1-4b4d-af14-b65a412906f5\" type=\"checkbox\" ><label for=\"7e5b045c-61b1-4b4d-af14-b65a412906f5\" class=\"sk-toggleable__label sk-toggleable__label-arrow\">Pipeline</label><div class=\"sk-toggleable__content\"><pre>Pipeline(steps=[(&#x27;imputation_mean&#x27;, SimpleImputer()),\n",
       "                (&#x27;scaler&#x27;, StandardScaler(with_mean=False))])</pre></div></div></div><div class=\"sk-serial\"><div class=\"sk-item\"><div class=\"sk-estimator sk-toggleable\"><input class=\"sk-toggleable__control sk-hidden--visually\" id=\"98c77ca9-1894-48aa-bbbf-0b040d9ba642\" type=\"checkbox\" ><label for=\"98c77ca9-1894-48aa-bbbf-0b040d9ba642\" class=\"sk-toggleable__label sk-toggleable__label-arrow\">SimpleImputer</label><div class=\"sk-toggleable__content\"><pre>SimpleImputer()</pre></div></div></div><div class=\"sk-item\"><div class=\"sk-estimator sk-toggleable\"><input class=\"sk-toggleable__control sk-hidden--visually\" id=\"e90f2753-5b17-475a-98df-81edb682915d\" type=\"checkbox\" ><label for=\"e90f2753-5b17-475a-98df-81edb682915d\" class=\"sk-toggleable__label sk-toggleable__label-arrow\">StandardScaler</label><div class=\"sk-toggleable__content\"><pre>StandardScaler(with_mean=False)</pre></div></div></div></div></div></div></div>"
      ],
      "text/plain": [
       "Pipeline(steps=[('imputation_mean', SimpleImputer()),\n",
       "                ('scaler', StandardScaler(with_mean=False))])"
      ]
     },
     "execution_count": 21,
     "metadata": {},
     "output_type": "execute_result"
    }
   ],
   "source": [
    "numeric_preprocessor"
   ]
  },
  {
   "cell_type": "code",
   "execution_count": 22,
   "metadata": {},
   "outputs": [],
   "source": [
    "categorical_preprocessor = Pipeline(\n",
    "    steps=[\n",
    "        (\n",
    "            \"imputation_constant\",\n",
    "            SimpleImputer(fill_value=\"missing\", strategy=\"constant\"),\n",
    "        ),\n",
    "        (\"onehot\", OneHotEncoder(handle_unknown=\"ignore\")),\n",
    "    ]\n",
    ")"
   ]
  },
  {
   "cell_type": "code",
   "execution_count": 23,
   "metadata": {},
   "outputs": [],
   "source": [
    "preprocessor=Pipeline(\n",
    "    steps=[(\"categorical\",categorical_preprocessor),(\"numerical\",numeric_preprocessor)]\n",
    "\n",
    ")"
   ]
  },
  {
   "cell_type": "code",
   "execution_count": 24,
   "metadata": {},
   "outputs": [
    {
     "data": {
      "text/html": [
       "<style>#sk-e5cb8189-90cf-457a-8faa-d1bc6c9894ce {color: black;background-color: white;}#sk-e5cb8189-90cf-457a-8faa-d1bc6c9894ce pre{padding: 0;}#sk-e5cb8189-90cf-457a-8faa-d1bc6c9894ce div.sk-toggleable {background-color: white;}#sk-e5cb8189-90cf-457a-8faa-d1bc6c9894ce label.sk-toggleable__label {cursor: pointer;display: block;width: 100%;margin-bottom: 0;padding: 0.3em;box-sizing: border-box;text-align: center;}#sk-e5cb8189-90cf-457a-8faa-d1bc6c9894ce label.sk-toggleable__label-arrow:before {content: \"▸\";float: left;margin-right: 0.25em;color: #696969;}#sk-e5cb8189-90cf-457a-8faa-d1bc6c9894ce label.sk-toggleable__label-arrow:hover:before {color: black;}#sk-e5cb8189-90cf-457a-8faa-d1bc6c9894ce div.sk-estimator:hover label.sk-toggleable__label-arrow:before {color: black;}#sk-e5cb8189-90cf-457a-8faa-d1bc6c9894ce div.sk-toggleable__content {max-height: 0;max-width: 0;overflow: hidden;text-align: left;background-color: #f0f8ff;}#sk-e5cb8189-90cf-457a-8faa-d1bc6c9894ce div.sk-toggleable__content pre {margin: 0.2em;color: black;border-radius: 0.25em;background-color: #f0f8ff;}#sk-e5cb8189-90cf-457a-8faa-d1bc6c9894ce input.sk-toggleable__control:checked~div.sk-toggleable__content {max-height: 200px;max-width: 100%;overflow: auto;}#sk-e5cb8189-90cf-457a-8faa-d1bc6c9894ce input.sk-toggleable__control:checked~label.sk-toggleable__label-arrow:before {content: \"▾\";}#sk-e5cb8189-90cf-457a-8faa-d1bc6c9894ce div.sk-estimator input.sk-toggleable__control:checked~label.sk-toggleable__label {background-color: #d4ebff;}#sk-e5cb8189-90cf-457a-8faa-d1bc6c9894ce div.sk-label input.sk-toggleable__control:checked~label.sk-toggleable__label {background-color: #d4ebff;}#sk-e5cb8189-90cf-457a-8faa-d1bc6c9894ce input.sk-hidden--visually {border: 0;clip: rect(1px 1px 1px 1px);clip: rect(1px, 1px, 1px, 1px);height: 1px;margin: -1px;overflow: hidden;padding: 0;position: absolute;width: 1px;}#sk-e5cb8189-90cf-457a-8faa-d1bc6c9894ce div.sk-estimator {font-family: monospace;background-color: #f0f8ff;border: 1px dotted black;border-radius: 0.25em;box-sizing: border-box;margin-bottom: 0.5em;}#sk-e5cb8189-90cf-457a-8faa-d1bc6c9894ce div.sk-estimator:hover {background-color: #d4ebff;}#sk-e5cb8189-90cf-457a-8faa-d1bc6c9894ce div.sk-parallel-item::after {content: \"\";width: 100%;border-bottom: 1px solid gray;flex-grow: 1;}#sk-e5cb8189-90cf-457a-8faa-d1bc6c9894ce div.sk-label:hover label.sk-toggleable__label {background-color: #d4ebff;}#sk-e5cb8189-90cf-457a-8faa-d1bc6c9894ce div.sk-serial::before {content: \"\";position: absolute;border-left: 1px solid gray;box-sizing: border-box;top: 2em;bottom: 0;left: 50%;}#sk-e5cb8189-90cf-457a-8faa-d1bc6c9894ce div.sk-serial {display: flex;flex-direction: column;align-items: center;background-color: white;padding-right: 0.2em;padding-left: 0.2em;}#sk-e5cb8189-90cf-457a-8faa-d1bc6c9894ce div.sk-item {z-index: 1;}#sk-e5cb8189-90cf-457a-8faa-d1bc6c9894ce div.sk-parallel {display: flex;align-items: stretch;justify-content: center;background-color: white;}#sk-e5cb8189-90cf-457a-8faa-d1bc6c9894ce div.sk-parallel::before {content: \"\";position: absolute;border-left: 1px solid gray;box-sizing: border-box;top: 2em;bottom: 0;left: 50%;}#sk-e5cb8189-90cf-457a-8faa-d1bc6c9894ce div.sk-parallel-item {display: flex;flex-direction: column;position: relative;background-color: white;}#sk-e5cb8189-90cf-457a-8faa-d1bc6c9894ce div.sk-parallel-item:first-child::after {align-self: flex-end;width: 50%;}#sk-e5cb8189-90cf-457a-8faa-d1bc6c9894ce div.sk-parallel-item:last-child::after {align-self: flex-start;width: 50%;}#sk-e5cb8189-90cf-457a-8faa-d1bc6c9894ce div.sk-parallel-item:only-child::after {width: 0;}#sk-e5cb8189-90cf-457a-8faa-d1bc6c9894ce div.sk-dashed-wrapped {border: 1px dashed gray;margin: 0 0.4em 0.5em 0.4em;box-sizing: border-box;padding-bottom: 0.4em;background-color: white;position: relative;}#sk-e5cb8189-90cf-457a-8faa-d1bc6c9894ce div.sk-label label {font-family: monospace;font-weight: bold;background-color: white;display: inline-block;line-height: 1.2em;}#sk-e5cb8189-90cf-457a-8faa-d1bc6c9894ce div.sk-label-container {position: relative;z-index: 2;text-align: center;}#sk-e5cb8189-90cf-457a-8faa-d1bc6c9894ce div.sk-container {/* jupyter's `normalize.less` sets `[hidden] { display: none; }` but bootstrap.min.css set `[hidden] { display: none !important; }` so we also need the `!important` here to be able to override the default hidden behavior on the sphinx rendered scikit-learn.org. See: https://github.com/scikit-learn/scikit-learn/issues/21755 */display: inline-block !important;position: relative;}#sk-e5cb8189-90cf-457a-8faa-d1bc6c9894ce div.sk-text-repr-fallback {display: none;}</style><div id=\"sk-e5cb8189-90cf-457a-8faa-d1bc6c9894ce\" class=\"sk-top-container\"><div class=\"sk-text-repr-fallback\"><pre>Pipeline(steps=[(&#x27;categorical&#x27;,\n",
       "                 Pipeline(steps=[(&#x27;imputation_constant&#x27;,\n",
       "                                  SimpleImputer(fill_value=&#x27;missing&#x27;,\n",
       "                                                strategy=&#x27;constant&#x27;)),\n",
       "                                 (&#x27;onehot&#x27;,\n",
       "                                  OneHotEncoder(handle_unknown=&#x27;ignore&#x27;))])),\n",
       "                (&#x27;numerical&#x27;,\n",
       "                 Pipeline(steps=[(&#x27;imputation_mean&#x27;, SimpleImputer()),\n",
       "                                 (&#x27;scaler&#x27;,\n",
       "                                  StandardScaler(with_mean=False))]))])</pre><b>Please rerun this cell to show the HTML repr or trust the notebook.</b></div><div class=\"sk-container\" hidden><div class=\"sk-item sk-dashed-wrapped\"><div class=\"sk-label-container\"><div class=\"sk-label sk-toggleable\"><input class=\"sk-toggleable__control sk-hidden--visually\" id=\"f71d1a75-4a82-4f9c-b263-55a4faaf2bab\" type=\"checkbox\" ><label for=\"f71d1a75-4a82-4f9c-b263-55a4faaf2bab\" class=\"sk-toggleable__label sk-toggleable__label-arrow\">Pipeline</label><div class=\"sk-toggleable__content\"><pre>Pipeline(steps=[(&#x27;categorical&#x27;,\n",
       "                 Pipeline(steps=[(&#x27;imputation_constant&#x27;,\n",
       "                                  SimpleImputer(fill_value=&#x27;missing&#x27;,\n",
       "                                                strategy=&#x27;constant&#x27;)),\n",
       "                                 (&#x27;onehot&#x27;,\n",
       "                                  OneHotEncoder(handle_unknown=&#x27;ignore&#x27;))])),\n",
       "                (&#x27;numerical&#x27;,\n",
       "                 Pipeline(steps=[(&#x27;imputation_mean&#x27;, SimpleImputer()),\n",
       "                                 (&#x27;scaler&#x27;,\n",
       "                                  StandardScaler(with_mean=False))]))])</pre></div></div></div><div class=\"sk-serial\"><div class=\"sk-item\"><div class=\"sk-label-container\"><div class=\"sk-label sk-toggleable\"><input class=\"sk-toggleable__control sk-hidden--visually\" id=\"4b08f110-a124-4b98-a550-54a36fb8e668\" type=\"checkbox\" ><label for=\"4b08f110-a124-4b98-a550-54a36fb8e668\" class=\"sk-toggleable__label sk-toggleable__label-arrow\">categorical: Pipeline</label><div class=\"sk-toggleable__content\"><pre>Pipeline(steps=[(&#x27;imputation_constant&#x27;,\n",
       "                 SimpleImputer(fill_value=&#x27;missing&#x27;, strategy=&#x27;constant&#x27;)),\n",
       "                (&#x27;onehot&#x27;, OneHotEncoder(handle_unknown=&#x27;ignore&#x27;))])</pre></div></div></div><div class=\"sk-serial\"><div class=\"sk-item\"><div class=\"sk-estimator sk-toggleable\"><input class=\"sk-toggleable__control sk-hidden--visually\" id=\"bb2250f5-81cc-470f-b7d7-1d542dcdfdcc\" type=\"checkbox\" ><label for=\"bb2250f5-81cc-470f-b7d7-1d542dcdfdcc\" class=\"sk-toggleable__label sk-toggleable__label-arrow\">SimpleImputer</label><div class=\"sk-toggleable__content\"><pre>SimpleImputer(fill_value=&#x27;missing&#x27;, strategy=&#x27;constant&#x27;)</pre></div></div></div><div class=\"sk-item\"><div class=\"sk-estimator sk-toggleable\"><input class=\"sk-toggleable__control sk-hidden--visually\" id=\"4eba4c83-5e47-438a-9475-5417422ba122\" type=\"checkbox\" ><label for=\"4eba4c83-5e47-438a-9475-5417422ba122\" class=\"sk-toggleable__label sk-toggleable__label-arrow\">OneHotEncoder</label><div class=\"sk-toggleable__content\"><pre>OneHotEncoder(handle_unknown=&#x27;ignore&#x27;)</pre></div></div></div></div></div><div class=\"sk-item\"><div class=\"sk-label-container\"><div class=\"sk-label sk-toggleable\"><input class=\"sk-toggleable__control sk-hidden--visually\" id=\"a1032c23-4949-4a9c-8723-4dabb03ca8e6\" type=\"checkbox\" ><label for=\"a1032c23-4949-4a9c-8723-4dabb03ca8e6\" class=\"sk-toggleable__label sk-toggleable__label-arrow\">numerical: Pipeline</label><div class=\"sk-toggleable__content\"><pre>Pipeline(steps=[(&#x27;imputation_mean&#x27;, SimpleImputer()),\n",
       "                (&#x27;scaler&#x27;, StandardScaler(with_mean=False))])</pre></div></div></div><div class=\"sk-serial\"><div class=\"sk-item\"><div class=\"sk-estimator sk-toggleable\"><input class=\"sk-toggleable__control sk-hidden--visually\" id=\"a2d3184a-113a-4072-a1f9-15f1e5645b05\" type=\"checkbox\" ><label for=\"a2d3184a-113a-4072-a1f9-15f1e5645b05\" class=\"sk-toggleable__label sk-toggleable__label-arrow\">SimpleImputer</label><div class=\"sk-toggleable__content\"><pre>SimpleImputer()</pre></div></div></div><div class=\"sk-item\"><div class=\"sk-estimator sk-toggleable\"><input class=\"sk-toggleable__control sk-hidden--visually\" id=\"10d82cf1-cd13-4625-8a17-3fc36ff5e97c\" type=\"checkbox\" ><label for=\"10d82cf1-cd13-4625-8a17-3fc36ff5e97c\" class=\"sk-toggleable__label sk-toggleable__label-arrow\">StandardScaler</label><div class=\"sk-toggleable__content\"><pre>StandardScaler(with_mean=False)</pre></div></div></div></div></div></div></div></div></div>"
      ],
      "text/plain": [
       "Pipeline(steps=[('categorical',\n",
       "                 Pipeline(steps=[('imputation_constant',\n",
       "                                  SimpleImputer(fill_value='missing',\n",
       "                                                strategy='constant')),\n",
       "                                 ('onehot',\n",
       "                                  OneHotEncoder(handle_unknown='ignore'))])),\n",
       "                ('numerical',\n",
       "                 Pipeline(steps=[('imputation_mean', SimpleImputer()),\n",
       "                                 ('scaler',\n",
       "                                  StandardScaler(with_mean=False))]))])"
      ]
     },
     "execution_count": 24,
     "metadata": {},
     "output_type": "execute_result"
    }
   ],
   "source": [
    "preprocessor"
   ]
  },
  {
   "cell_type": "code",
   "execution_count": 25,
   "metadata": {},
   "outputs": [],
   "source": [
    "pipe=Pipeline(\n",
    "    [(\"preprocessor\",preprocessor),(\"regressor\",RandomForestRegressor())]\n",
    "\n",
    ")"
   ]
  },
  {
   "cell_type": "code",
   "execution_count": 26,
   "metadata": {},
   "outputs": [
    {
     "data": {
      "text/html": [
       "<style>#sk-49442941-43c5-443c-b8a2-89047736999e {color: black;background-color: white;}#sk-49442941-43c5-443c-b8a2-89047736999e pre{padding: 0;}#sk-49442941-43c5-443c-b8a2-89047736999e div.sk-toggleable {background-color: white;}#sk-49442941-43c5-443c-b8a2-89047736999e label.sk-toggleable__label {cursor: pointer;display: block;width: 100%;margin-bottom: 0;padding: 0.3em;box-sizing: border-box;text-align: center;}#sk-49442941-43c5-443c-b8a2-89047736999e label.sk-toggleable__label-arrow:before {content: \"▸\";float: left;margin-right: 0.25em;color: #696969;}#sk-49442941-43c5-443c-b8a2-89047736999e label.sk-toggleable__label-arrow:hover:before {color: black;}#sk-49442941-43c5-443c-b8a2-89047736999e div.sk-estimator:hover label.sk-toggleable__label-arrow:before {color: black;}#sk-49442941-43c5-443c-b8a2-89047736999e div.sk-toggleable__content {max-height: 0;max-width: 0;overflow: hidden;text-align: left;background-color: #f0f8ff;}#sk-49442941-43c5-443c-b8a2-89047736999e div.sk-toggleable__content pre {margin: 0.2em;color: black;border-radius: 0.25em;background-color: #f0f8ff;}#sk-49442941-43c5-443c-b8a2-89047736999e input.sk-toggleable__control:checked~div.sk-toggleable__content {max-height: 200px;max-width: 100%;overflow: auto;}#sk-49442941-43c5-443c-b8a2-89047736999e input.sk-toggleable__control:checked~label.sk-toggleable__label-arrow:before {content: \"▾\";}#sk-49442941-43c5-443c-b8a2-89047736999e div.sk-estimator input.sk-toggleable__control:checked~label.sk-toggleable__label {background-color: #d4ebff;}#sk-49442941-43c5-443c-b8a2-89047736999e div.sk-label input.sk-toggleable__control:checked~label.sk-toggleable__label {background-color: #d4ebff;}#sk-49442941-43c5-443c-b8a2-89047736999e input.sk-hidden--visually {border: 0;clip: rect(1px 1px 1px 1px);clip: rect(1px, 1px, 1px, 1px);height: 1px;margin: -1px;overflow: hidden;padding: 0;position: absolute;width: 1px;}#sk-49442941-43c5-443c-b8a2-89047736999e div.sk-estimator {font-family: monospace;background-color: #f0f8ff;border: 1px dotted black;border-radius: 0.25em;box-sizing: border-box;margin-bottom: 0.5em;}#sk-49442941-43c5-443c-b8a2-89047736999e div.sk-estimator:hover {background-color: #d4ebff;}#sk-49442941-43c5-443c-b8a2-89047736999e div.sk-parallel-item::after {content: \"\";width: 100%;border-bottom: 1px solid gray;flex-grow: 1;}#sk-49442941-43c5-443c-b8a2-89047736999e div.sk-label:hover label.sk-toggleable__label {background-color: #d4ebff;}#sk-49442941-43c5-443c-b8a2-89047736999e div.sk-serial::before {content: \"\";position: absolute;border-left: 1px solid gray;box-sizing: border-box;top: 2em;bottom: 0;left: 50%;}#sk-49442941-43c5-443c-b8a2-89047736999e div.sk-serial {display: flex;flex-direction: column;align-items: center;background-color: white;padding-right: 0.2em;padding-left: 0.2em;}#sk-49442941-43c5-443c-b8a2-89047736999e div.sk-item {z-index: 1;}#sk-49442941-43c5-443c-b8a2-89047736999e div.sk-parallel {display: flex;align-items: stretch;justify-content: center;background-color: white;}#sk-49442941-43c5-443c-b8a2-89047736999e div.sk-parallel::before {content: \"\";position: absolute;border-left: 1px solid gray;box-sizing: border-box;top: 2em;bottom: 0;left: 50%;}#sk-49442941-43c5-443c-b8a2-89047736999e div.sk-parallel-item {display: flex;flex-direction: column;position: relative;background-color: white;}#sk-49442941-43c5-443c-b8a2-89047736999e div.sk-parallel-item:first-child::after {align-self: flex-end;width: 50%;}#sk-49442941-43c5-443c-b8a2-89047736999e div.sk-parallel-item:last-child::after {align-self: flex-start;width: 50%;}#sk-49442941-43c5-443c-b8a2-89047736999e div.sk-parallel-item:only-child::after {width: 0;}#sk-49442941-43c5-443c-b8a2-89047736999e div.sk-dashed-wrapped {border: 1px dashed gray;margin: 0 0.4em 0.5em 0.4em;box-sizing: border-box;padding-bottom: 0.4em;background-color: white;position: relative;}#sk-49442941-43c5-443c-b8a2-89047736999e div.sk-label label {font-family: monospace;font-weight: bold;background-color: white;display: inline-block;line-height: 1.2em;}#sk-49442941-43c5-443c-b8a2-89047736999e div.sk-label-container {position: relative;z-index: 2;text-align: center;}#sk-49442941-43c5-443c-b8a2-89047736999e div.sk-container {/* jupyter's `normalize.less` sets `[hidden] { display: none; }` but bootstrap.min.css set `[hidden] { display: none !important; }` so we also need the `!important` here to be able to override the default hidden behavior on the sphinx rendered scikit-learn.org. See: https://github.com/scikit-learn/scikit-learn/issues/21755 */display: inline-block !important;position: relative;}#sk-49442941-43c5-443c-b8a2-89047736999e div.sk-text-repr-fallback {display: none;}</style><div id=\"sk-49442941-43c5-443c-b8a2-89047736999e\" class=\"sk-top-container\"><div class=\"sk-text-repr-fallback\"><pre>Pipeline(steps=[(&#x27;preprocessor&#x27;,\n",
       "                 Pipeline(steps=[(&#x27;categorical&#x27;,\n",
       "                                  Pipeline(steps=[(&#x27;imputation_constant&#x27;,\n",
       "                                                   SimpleImputer(fill_value=&#x27;missing&#x27;,\n",
       "                                                                 strategy=&#x27;constant&#x27;)),\n",
       "                                                  (&#x27;onehot&#x27;,\n",
       "                                                   OneHotEncoder(handle_unknown=&#x27;ignore&#x27;))])),\n",
       "                                 (&#x27;numerical&#x27;,\n",
       "                                  Pipeline(steps=[(&#x27;imputation_mean&#x27;,\n",
       "                                                   SimpleImputer()),\n",
       "                                                  (&#x27;scaler&#x27;,\n",
       "                                                   StandardScaler(with_mean=False))]))])),\n",
       "                (&#x27;regressor&#x27;, RandomForestRegressor())])</pre><b>Please rerun this cell to show the HTML repr or trust the notebook.</b></div><div class=\"sk-container\" hidden><div class=\"sk-item sk-dashed-wrapped\"><div class=\"sk-label-container\"><div class=\"sk-label sk-toggleable\"><input class=\"sk-toggleable__control sk-hidden--visually\" id=\"47f4cd11-b632-4b79-a132-f2420ed26800\" type=\"checkbox\" ><label for=\"47f4cd11-b632-4b79-a132-f2420ed26800\" class=\"sk-toggleable__label sk-toggleable__label-arrow\">Pipeline</label><div class=\"sk-toggleable__content\"><pre>Pipeline(steps=[(&#x27;preprocessor&#x27;,\n",
       "                 Pipeline(steps=[(&#x27;categorical&#x27;,\n",
       "                                  Pipeline(steps=[(&#x27;imputation_constant&#x27;,\n",
       "                                                   SimpleImputer(fill_value=&#x27;missing&#x27;,\n",
       "                                                                 strategy=&#x27;constant&#x27;)),\n",
       "                                                  (&#x27;onehot&#x27;,\n",
       "                                                   OneHotEncoder(handle_unknown=&#x27;ignore&#x27;))])),\n",
       "                                 (&#x27;numerical&#x27;,\n",
       "                                  Pipeline(steps=[(&#x27;imputation_mean&#x27;,\n",
       "                                                   SimpleImputer()),\n",
       "                                                  (&#x27;scaler&#x27;,\n",
       "                                                   StandardScaler(with_mean=False))]))])),\n",
       "                (&#x27;regressor&#x27;, RandomForestRegressor())])</pre></div></div></div><div class=\"sk-serial\"><div class=\"sk-item\"><div class=\"sk-label-container\"><div class=\"sk-label sk-toggleable\"><input class=\"sk-toggleable__control sk-hidden--visually\" id=\"5365d1c8-a124-4898-b0b1-310798cec444\" type=\"checkbox\" ><label for=\"5365d1c8-a124-4898-b0b1-310798cec444\" class=\"sk-toggleable__label sk-toggleable__label-arrow\">preprocessor: Pipeline</label><div class=\"sk-toggleable__content\"><pre>Pipeline(steps=[(&#x27;categorical&#x27;,\n",
       "                 Pipeline(steps=[(&#x27;imputation_constant&#x27;,\n",
       "                                  SimpleImputer(fill_value=&#x27;missing&#x27;,\n",
       "                                                strategy=&#x27;constant&#x27;)),\n",
       "                                 (&#x27;onehot&#x27;,\n",
       "                                  OneHotEncoder(handle_unknown=&#x27;ignore&#x27;))])),\n",
       "                (&#x27;numerical&#x27;,\n",
       "                 Pipeline(steps=[(&#x27;imputation_mean&#x27;, SimpleImputer()),\n",
       "                                 (&#x27;scaler&#x27;,\n",
       "                                  StandardScaler(with_mean=False))]))])</pre></div></div></div><div class=\"sk-serial\"><div class=\"sk-item\"><div class=\"sk-label-container\"><div class=\"sk-label sk-toggleable\"><input class=\"sk-toggleable__control sk-hidden--visually\" id=\"4583dfff-ecd3-40db-949d-348a66ddb0e3\" type=\"checkbox\" ><label for=\"4583dfff-ecd3-40db-949d-348a66ddb0e3\" class=\"sk-toggleable__label sk-toggleable__label-arrow\">categorical: Pipeline</label><div class=\"sk-toggleable__content\"><pre>Pipeline(steps=[(&#x27;imputation_constant&#x27;,\n",
       "                 SimpleImputer(fill_value=&#x27;missing&#x27;, strategy=&#x27;constant&#x27;)),\n",
       "                (&#x27;onehot&#x27;, OneHotEncoder(handle_unknown=&#x27;ignore&#x27;))])</pre></div></div></div><div class=\"sk-serial\"><div class=\"sk-item\"><div class=\"sk-estimator sk-toggleable\"><input class=\"sk-toggleable__control sk-hidden--visually\" id=\"69ddeb68-dbcc-4970-9ba0-fb9ce61602e3\" type=\"checkbox\" ><label for=\"69ddeb68-dbcc-4970-9ba0-fb9ce61602e3\" class=\"sk-toggleable__label sk-toggleable__label-arrow\">SimpleImputer</label><div class=\"sk-toggleable__content\"><pre>SimpleImputer(fill_value=&#x27;missing&#x27;, strategy=&#x27;constant&#x27;)</pre></div></div></div><div class=\"sk-item\"><div class=\"sk-estimator sk-toggleable\"><input class=\"sk-toggleable__control sk-hidden--visually\" id=\"e798fe65-6c83-4cce-b40d-25eb25c8257c\" type=\"checkbox\" ><label for=\"e798fe65-6c83-4cce-b40d-25eb25c8257c\" class=\"sk-toggleable__label sk-toggleable__label-arrow\">OneHotEncoder</label><div class=\"sk-toggleable__content\"><pre>OneHotEncoder(handle_unknown=&#x27;ignore&#x27;)</pre></div></div></div></div></div><div class=\"sk-item\"><div class=\"sk-label-container\"><div class=\"sk-label sk-toggleable\"><input class=\"sk-toggleable__control sk-hidden--visually\" id=\"d8aa97fd-cecf-4fbb-95d7-cb1ce215ffb5\" type=\"checkbox\" ><label for=\"d8aa97fd-cecf-4fbb-95d7-cb1ce215ffb5\" class=\"sk-toggleable__label sk-toggleable__label-arrow\">numerical: Pipeline</label><div class=\"sk-toggleable__content\"><pre>Pipeline(steps=[(&#x27;imputation_mean&#x27;, SimpleImputer()),\n",
       "                (&#x27;scaler&#x27;, StandardScaler(with_mean=False))])</pre></div></div></div><div class=\"sk-serial\"><div class=\"sk-item\"><div class=\"sk-estimator sk-toggleable\"><input class=\"sk-toggleable__control sk-hidden--visually\" id=\"f16bfc4e-e74c-4341-8860-53ba48f69b26\" type=\"checkbox\" ><label for=\"f16bfc4e-e74c-4341-8860-53ba48f69b26\" class=\"sk-toggleable__label sk-toggleable__label-arrow\">SimpleImputer</label><div class=\"sk-toggleable__content\"><pre>SimpleImputer()</pre></div></div></div><div class=\"sk-item\"><div class=\"sk-estimator sk-toggleable\"><input class=\"sk-toggleable__control sk-hidden--visually\" id=\"8b780da8-0400-4200-8b66-5e291262cef9\" type=\"checkbox\" ><label for=\"8b780da8-0400-4200-8b66-5e291262cef9\" class=\"sk-toggleable__label sk-toggleable__label-arrow\">StandardScaler</label><div class=\"sk-toggleable__content\"><pre>StandardScaler(with_mean=False)</pre></div></div></div></div></div></div></div><div class=\"sk-item\"><div class=\"sk-estimator sk-toggleable\"><input class=\"sk-toggleable__control sk-hidden--visually\" id=\"58d150b8-dfda-469a-89c7-17b60f5fad67\" type=\"checkbox\" ><label for=\"58d150b8-dfda-469a-89c7-17b60f5fad67\" class=\"sk-toggleable__label sk-toggleable__label-arrow\">RandomForestRegressor</label><div class=\"sk-toggleable__content\"><pre>RandomForestRegressor()</pre></div></div></div></div></div></div></div>"
      ],
      "text/plain": [
       "Pipeline(steps=[('preprocessor',\n",
       "                 Pipeline(steps=[('categorical',\n",
       "                                  Pipeline(steps=[('imputation_constant',\n",
       "                                                   SimpleImputer(fill_value='missing',\n",
       "                                                                 strategy='constant')),\n",
       "                                                  ('onehot',\n",
       "                                                   OneHotEncoder(handle_unknown='ignore'))])),\n",
       "                                 ('numerical',\n",
       "                                  Pipeline(steps=[('imputation_mean',\n",
       "                                                   SimpleImputer()),\n",
       "                                                  ('scaler',\n",
       "                                                   StandardScaler(with_mean=False))]))])),\n",
       "                ('regressor', RandomForestRegressor())])"
      ]
     },
     "execution_count": 26,
     "metadata": {},
     "output_type": "execute_result"
    }
   ],
   "source": [
    "pipe"
   ]
  },
  {
   "cell_type": "code",
   "execution_count": 27,
   "metadata": {},
   "outputs": [
    {
     "data": {
      "text/html": [
       "<style>#sk-0f28259c-de9d-4763-bdec-7fdbc76ef0ab {color: black;background-color: white;}#sk-0f28259c-de9d-4763-bdec-7fdbc76ef0ab pre{padding: 0;}#sk-0f28259c-de9d-4763-bdec-7fdbc76ef0ab div.sk-toggleable {background-color: white;}#sk-0f28259c-de9d-4763-bdec-7fdbc76ef0ab label.sk-toggleable__label {cursor: pointer;display: block;width: 100%;margin-bottom: 0;padding: 0.3em;box-sizing: border-box;text-align: center;}#sk-0f28259c-de9d-4763-bdec-7fdbc76ef0ab label.sk-toggleable__label-arrow:before {content: \"▸\";float: left;margin-right: 0.25em;color: #696969;}#sk-0f28259c-de9d-4763-bdec-7fdbc76ef0ab label.sk-toggleable__label-arrow:hover:before {color: black;}#sk-0f28259c-de9d-4763-bdec-7fdbc76ef0ab div.sk-estimator:hover label.sk-toggleable__label-arrow:before {color: black;}#sk-0f28259c-de9d-4763-bdec-7fdbc76ef0ab div.sk-toggleable__content {max-height: 0;max-width: 0;overflow: hidden;text-align: left;background-color: #f0f8ff;}#sk-0f28259c-de9d-4763-bdec-7fdbc76ef0ab div.sk-toggleable__content pre {margin: 0.2em;color: black;border-radius: 0.25em;background-color: #f0f8ff;}#sk-0f28259c-de9d-4763-bdec-7fdbc76ef0ab input.sk-toggleable__control:checked~div.sk-toggleable__content {max-height: 200px;max-width: 100%;overflow: auto;}#sk-0f28259c-de9d-4763-bdec-7fdbc76ef0ab input.sk-toggleable__control:checked~label.sk-toggleable__label-arrow:before {content: \"▾\";}#sk-0f28259c-de9d-4763-bdec-7fdbc76ef0ab div.sk-estimator input.sk-toggleable__control:checked~label.sk-toggleable__label {background-color: #d4ebff;}#sk-0f28259c-de9d-4763-bdec-7fdbc76ef0ab div.sk-label input.sk-toggleable__control:checked~label.sk-toggleable__label {background-color: #d4ebff;}#sk-0f28259c-de9d-4763-bdec-7fdbc76ef0ab input.sk-hidden--visually {border: 0;clip: rect(1px 1px 1px 1px);clip: rect(1px, 1px, 1px, 1px);height: 1px;margin: -1px;overflow: hidden;padding: 0;position: absolute;width: 1px;}#sk-0f28259c-de9d-4763-bdec-7fdbc76ef0ab div.sk-estimator {font-family: monospace;background-color: #f0f8ff;border: 1px dotted black;border-radius: 0.25em;box-sizing: border-box;margin-bottom: 0.5em;}#sk-0f28259c-de9d-4763-bdec-7fdbc76ef0ab div.sk-estimator:hover {background-color: #d4ebff;}#sk-0f28259c-de9d-4763-bdec-7fdbc76ef0ab div.sk-parallel-item::after {content: \"\";width: 100%;border-bottom: 1px solid gray;flex-grow: 1;}#sk-0f28259c-de9d-4763-bdec-7fdbc76ef0ab div.sk-label:hover label.sk-toggleable__label {background-color: #d4ebff;}#sk-0f28259c-de9d-4763-bdec-7fdbc76ef0ab div.sk-serial::before {content: \"\";position: absolute;border-left: 1px solid gray;box-sizing: border-box;top: 2em;bottom: 0;left: 50%;}#sk-0f28259c-de9d-4763-bdec-7fdbc76ef0ab div.sk-serial {display: flex;flex-direction: column;align-items: center;background-color: white;padding-right: 0.2em;padding-left: 0.2em;}#sk-0f28259c-de9d-4763-bdec-7fdbc76ef0ab div.sk-item {z-index: 1;}#sk-0f28259c-de9d-4763-bdec-7fdbc76ef0ab div.sk-parallel {display: flex;align-items: stretch;justify-content: center;background-color: white;}#sk-0f28259c-de9d-4763-bdec-7fdbc76ef0ab div.sk-parallel::before {content: \"\";position: absolute;border-left: 1px solid gray;box-sizing: border-box;top: 2em;bottom: 0;left: 50%;}#sk-0f28259c-de9d-4763-bdec-7fdbc76ef0ab div.sk-parallel-item {display: flex;flex-direction: column;position: relative;background-color: white;}#sk-0f28259c-de9d-4763-bdec-7fdbc76ef0ab div.sk-parallel-item:first-child::after {align-self: flex-end;width: 50%;}#sk-0f28259c-de9d-4763-bdec-7fdbc76ef0ab div.sk-parallel-item:last-child::after {align-self: flex-start;width: 50%;}#sk-0f28259c-de9d-4763-bdec-7fdbc76ef0ab div.sk-parallel-item:only-child::after {width: 0;}#sk-0f28259c-de9d-4763-bdec-7fdbc76ef0ab div.sk-dashed-wrapped {border: 1px dashed gray;margin: 0 0.4em 0.5em 0.4em;box-sizing: border-box;padding-bottom: 0.4em;background-color: white;position: relative;}#sk-0f28259c-de9d-4763-bdec-7fdbc76ef0ab div.sk-label label {font-family: monospace;font-weight: bold;background-color: white;display: inline-block;line-height: 1.2em;}#sk-0f28259c-de9d-4763-bdec-7fdbc76ef0ab div.sk-label-container {position: relative;z-index: 2;text-align: center;}#sk-0f28259c-de9d-4763-bdec-7fdbc76ef0ab div.sk-container {/* jupyter's `normalize.less` sets `[hidden] { display: none; }` but bootstrap.min.css set `[hidden] { display: none !important; }` so we also need the `!important` here to be able to override the default hidden behavior on the sphinx rendered scikit-learn.org. See: https://github.com/scikit-learn/scikit-learn/issues/21755 */display: inline-block !important;position: relative;}#sk-0f28259c-de9d-4763-bdec-7fdbc76ef0ab div.sk-text-repr-fallback {display: none;}</style><div id=\"sk-0f28259c-de9d-4763-bdec-7fdbc76ef0ab\" class=\"sk-top-container\"><div class=\"sk-text-repr-fallback\"><pre>Pipeline(steps=[(&#x27;preprocessor&#x27;,\n",
       "                 Pipeline(steps=[(&#x27;categorical&#x27;,\n",
       "                                  Pipeline(steps=[(&#x27;imputation_constant&#x27;,\n",
       "                                                   SimpleImputer(fill_value=&#x27;missing&#x27;,\n",
       "                                                                 strategy=&#x27;constant&#x27;)),\n",
       "                                                  (&#x27;onehot&#x27;,\n",
       "                                                   OneHotEncoder(handle_unknown=&#x27;ignore&#x27;))])),\n",
       "                                 (&#x27;numerical&#x27;,\n",
       "                                  Pipeline(steps=[(&#x27;imputation_mean&#x27;,\n",
       "                                                   SimpleImputer()),\n",
       "                                                  (&#x27;scaler&#x27;,\n",
       "                                                   StandardScaler(with_mean=False))]))])),\n",
       "                (&#x27;regressor&#x27;, RandomForestRegressor())])</pre><b>Please rerun this cell to show the HTML repr or trust the notebook.</b></div><div class=\"sk-container\" hidden><div class=\"sk-item sk-dashed-wrapped\"><div class=\"sk-label-container\"><div class=\"sk-label sk-toggleable\"><input class=\"sk-toggleable__control sk-hidden--visually\" id=\"91770a22-879c-4550-8228-56fb3a240556\" type=\"checkbox\" ><label for=\"91770a22-879c-4550-8228-56fb3a240556\" class=\"sk-toggleable__label sk-toggleable__label-arrow\">Pipeline</label><div class=\"sk-toggleable__content\"><pre>Pipeline(steps=[(&#x27;preprocessor&#x27;,\n",
       "                 Pipeline(steps=[(&#x27;categorical&#x27;,\n",
       "                                  Pipeline(steps=[(&#x27;imputation_constant&#x27;,\n",
       "                                                   SimpleImputer(fill_value=&#x27;missing&#x27;,\n",
       "                                                                 strategy=&#x27;constant&#x27;)),\n",
       "                                                  (&#x27;onehot&#x27;,\n",
       "                                                   OneHotEncoder(handle_unknown=&#x27;ignore&#x27;))])),\n",
       "                                 (&#x27;numerical&#x27;,\n",
       "                                  Pipeline(steps=[(&#x27;imputation_mean&#x27;,\n",
       "                                                   SimpleImputer()),\n",
       "                                                  (&#x27;scaler&#x27;,\n",
       "                                                   StandardScaler(with_mean=False))]))])),\n",
       "                (&#x27;regressor&#x27;, RandomForestRegressor())])</pre></div></div></div><div class=\"sk-serial\"><div class=\"sk-item\"><div class=\"sk-label-container\"><div class=\"sk-label sk-toggleable\"><input class=\"sk-toggleable__control sk-hidden--visually\" id=\"f419b142-0d93-4c20-b778-befe58132f86\" type=\"checkbox\" ><label for=\"f419b142-0d93-4c20-b778-befe58132f86\" class=\"sk-toggleable__label sk-toggleable__label-arrow\">preprocessor: Pipeline</label><div class=\"sk-toggleable__content\"><pre>Pipeline(steps=[(&#x27;categorical&#x27;,\n",
       "                 Pipeline(steps=[(&#x27;imputation_constant&#x27;,\n",
       "                                  SimpleImputer(fill_value=&#x27;missing&#x27;,\n",
       "                                                strategy=&#x27;constant&#x27;)),\n",
       "                                 (&#x27;onehot&#x27;,\n",
       "                                  OneHotEncoder(handle_unknown=&#x27;ignore&#x27;))])),\n",
       "                (&#x27;numerical&#x27;,\n",
       "                 Pipeline(steps=[(&#x27;imputation_mean&#x27;, SimpleImputer()),\n",
       "                                 (&#x27;scaler&#x27;,\n",
       "                                  StandardScaler(with_mean=False))]))])</pre></div></div></div><div class=\"sk-serial\"><div class=\"sk-item\"><div class=\"sk-label-container\"><div class=\"sk-label sk-toggleable\"><input class=\"sk-toggleable__control sk-hidden--visually\" id=\"09f6ef79-9d4b-4eb6-8de3-b1c5143f1bf8\" type=\"checkbox\" ><label for=\"09f6ef79-9d4b-4eb6-8de3-b1c5143f1bf8\" class=\"sk-toggleable__label sk-toggleable__label-arrow\">categorical: Pipeline</label><div class=\"sk-toggleable__content\"><pre>Pipeline(steps=[(&#x27;imputation_constant&#x27;,\n",
       "                 SimpleImputer(fill_value=&#x27;missing&#x27;, strategy=&#x27;constant&#x27;)),\n",
       "                (&#x27;onehot&#x27;, OneHotEncoder(handle_unknown=&#x27;ignore&#x27;))])</pre></div></div></div><div class=\"sk-serial\"><div class=\"sk-item\"><div class=\"sk-estimator sk-toggleable\"><input class=\"sk-toggleable__control sk-hidden--visually\" id=\"b039c93d-8155-4f4c-ba92-75db8863e34b\" type=\"checkbox\" ><label for=\"b039c93d-8155-4f4c-ba92-75db8863e34b\" class=\"sk-toggleable__label sk-toggleable__label-arrow\">SimpleImputer</label><div class=\"sk-toggleable__content\"><pre>SimpleImputer(fill_value=&#x27;missing&#x27;, strategy=&#x27;constant&#x27;)</pre></div></div></div><div class=\"sk-item\"><div class=\"sk-estimator sk-toggleable\"><input class=\"sk-toggleable__control sk-hidden--visually\" id=\"7302ba37-4fca-4859-9a39-553c9ab661a0\" type=\"checkbox\" ><label for=\"7302ba37-4fca-4859-9a39-553c9ab661a0\" class=\"sk-toggleable__label sk-toggleable__label-arrow\">OneHotEncoder</label><div class=\"sk-toggleable__content\"><pre>OneHotEncoder(handle_unknown=&#x27;ignore&#x27;)</pre></div></div></div></div></div><div class=\"sk-item\"><div class=\"sk-label-container\"><div class=\"sk-label sk-toggleable\"><input class=\"sk-toggleable__control sk-hidden--visually\" id=\"7d7dfd2f-bbe5-4cb4-a634-33f2b244c727\" type=\"checkbox\" ><label for=\"7d7dfd2f-bbe5-4cb4-a634-33f2b244c727\" class=\"sk-toggleable__label sk-toggleable__label-arrow\">numerical: Pipeline</label><div class=\"sk-toggleable__content\"><pre>Pipeline(steps=[(&#x27;imputation_mean&#x27;, SimpleImputer()),\n",
       "                (&#x27;scaler&#x27;, StandardScaler(with_mean=False))])</pre></div></div></div><div class=\"sk-serial\"><div class=\"sk-item\"><div class=\"sk-estimator sk-toggleable\"><input class=\"sk-toggleable__control sk-hidden--visually\" id=\"cb25c259-69f5-4818-9a64-514e64f874d6\" type=\"checkbox\" ><label for=\"cb25c259-69f5-4818-9a64-514e64f874d6\" class=\"sk-toggleable__label sk-toggleable__label-arrow\">SimpleImputer</label><div class=\"sk-toggleable__content\"><pre>SimpleImputer()</pre></div></div></div><div class=\"sk-item\"><div class=\"sk-estimator sk-toggleable\"><input class=\"sk-toggleable__control sk-hidden--visually\" id=\"43eb766c-7a2d-46a3-814f-48d4b9e2a68d\" type=\"checkbox\" ><label for=\"43eb766c-7a2d-46a3-814f-48d4b9e2a68d\" class=\"sk-toggleable__label sk-toggleable__label-arrow\">StandardScaler</label><div class=\"sk-toggleable__content\"><pre>StandardScaler(with_mean=False)</pre></div></div></div></div></div></div></div><div class=\"sk-item\"><div class=\"sk-estimator sk-toggleable\"><input class=\"sk-toggleable__control sk-hidden--visually\" id=\"abb8621b-c278-4804-95ee-d163648259a2\" type=\"checkbox\" ><label for=\"abb8621b-c278-4804-95ee-d163648259a2\" class=\"sk-toggleable__label sk-toggleable__label-arrow\">RandomForestRegressor</label><div class=\"sk-toggleable__content\"><pre>RandomForestRegressor()</pre></div></div></div></div></div></div></div>"
      ],
      "text/plain": [
       "Pipeline(steps=[('preprocessor',\n",
       "                 Pipeline(steps=[('categorical',\n",
       "                                  Pipeline(steps=[('imputation_constant',\n",
       "                                                   SimpleImputer(fill_value='missing',\n",
       "                                                                 strategy='constant')),\n",
       "                                                  ('onehot',\n",
       "                                                   OneHotEncoder(handle_unknown='ignore'))])),\n",
       "                                 ('numerical',\n",
       "                                  Pipeline(steps=[('imputation_mean',\n",
       "                                                   SimpleImputer()),\n",
       "                                                  ('scaler',\n",
       "                                                   StandardScaler(with_mean=False))]))])),\n",
       "                ('regressor', RandomForestRegressor())])"
      ]
     },
     "execution_count": 27,
     "metadata": {},
     "output_type": "execute_result"
    }
   ],
   "source": [
    "pipe.fit(X_train,y_train)"
   ]
  },
  {
   "cell_type": "code",
   "execution_count": 28,
   "metadata": {},
   "outputs": [
    {
     "data": {
      "text/plain": [
       "array([11.99381476, 17.00800857, 17.8905    , 15.6754    , 13.45985   ,\n",
       "       11.2465    , 12.09888   , 26.37066333, 13.32662667, 17.6671    ,\n",
       "       14.37736667, 34.1225    , 13.481115  , 18.32921   , 13.3457    ,\n",
       "       18.60443333, 15.1202    , 28.04366   , 12.5968    , 19.03246667,\n",
       "       27.3577    , 11.24555   , 13.721425  , 26.46386333, 30.35666   ,\n",
       "       17.0751    , 19.58246667, 17.41085167, 24.1508319 , 14.99195333,\n",
       "       12.9746    , 27.71417667, 12.82863333, 28.597     , 19.461     ,\n",
       "       18.10568333, 12.3327    ,  7.3938    , 21.406     , 26.9642    ,\n",
       "       13.13967333, 11.9527    , 41.4601    ,  9.17466667, 12.26943571,\n",
       "       31.9176    , 11.52658333, 18.4225    , 15.7853    , 20.6333019 ,\n",
       "       21.5881    , 16.99473333, 12.87025   , 11.1457    , 15.58284167,\n",
       "       25.6775    , 12.1814    , 20.94362   , 23.3018    , 12.41167   ,\n",
       "       16.69623333, 32.3644    , 13.25136667, 11.7829    , 19.0635    ,\n",
       "       20.3253    , 21.137     , 33.461     , 21.57916667, 17.4243    ,\n",
       "       12.9546    , 16.5781    , 15.44895   , 18.4585    , 19.22770048,\n",
       "       19.24137976, 39.6762    , 11.99381476, 20.5794    , 32.5166    ,\n",
       "       13.13967333, 16.8946    , 26.08053   , 13.64016667, 12.26943571,\n",
       "       23.6537    , 27.5845    , 32.3762    , 13.53676   , 30.6266131 ,\n",
       "       12.26943571, 28.91995333,  9.0015    , 10.91804762, 13.481115  ,\n",
       "       35.806     , 14.71415   , 25.8875    , 15.47001667, 29.50493333,\n",
       "       16.8133    , 19.24137976, 18.2905    , 14.83091667, 18.3201    ,\n",
       "       20.76665   , 12.87025   , 22.4186    , 17.8895    , 25.7061    ,\n",
       "       13.53676   , 16.4406    , 19.4159    ,  8.6352    , 29.56      ,\n",
       "       16.27976667, 23.4086    , 14.4323    , 10.91804762, 17.0132    ,\n",
       "       21.364     , 21.2913    , 15.28053333, 42.1924    , 32.699     ,\n",
       "       19.9212    , 25.3501    , 21.14236   , 14.41059   , 15.68385   ,\n",
       "       25.0056    , 17.36229167, 13.90728667, 17.45118143, 18.22368333,\n",
       "       13.81645   , 17.79699   , 11.90416667, 16.304     , 11.5331    ,\n",
       "       27.2129    , 12.09888   , 38.4289    , 21.97768667, 17.6723    ,\n",
       "       17.45118143, 29.1539    ,  8.0932    , 25.9884    , 15.31231667,\n",
       "       26.5492    , 20.41986   , 31.3135    , 24.284     , 15.7666    ,\n",
       "       21.45893333, 25.6384    , 22.3595    , 20.6333019 , 26.02823333,\n",
       "       20.56868333, 13.6712    , 25.88246   , 15.2285    , 25.1366    ,\n",
       "       13.32662667, 17.00800857, 17.31075024, 11.99381476, 22.5369    ,\n",
       "       18.9481    , 18.49161667, 32.7726    , 13.84317667, 20.9053    ,\n",
       "       16.3212    , 13.220975  , 20.6333019 , 12.09746667, 13.136275  ,\n",
       "       14.71475   , 27.2293    , 12.67243333, 13.72245   , 32.27725   ,\n",
       "       26.85884   , 24.1508319 , 18.67316667, 14.35065   , 18.05316667,\n",
       "       21.57916667, 19.4345    , 16.7062    ,  9.96665   , 12.02333333])"
      ]
     },
     "execution_count": 28,
     "metadata": {},
     "output_type": "execute_result"
    }
   ],
   "source": [
    "pipe.predict(X_train)"
   ]
  },
  {
   "cell_type": "code",
   "execution_count": 29,
   "metadata": {},
   "outputs": [],
   "source": [
    "import warnings\n",
    "warnings.filterwarnings('ignore')"
   ]
  },
  {
   "cell_type": "code",
   "execution_count": 30,
   "metadata": {},
   "outputs": [],
   "source": [
    "#Hperparameter Tuning\n",
    "param_grid = {\n",
    "    'regressor__n_estimators': [200,500],\n",
    "    'regressor__max_features': ['auto', 'sqrt', 'log2'],\n",
    "    'regressor__max_depth': [4,5,6,7,8]\n",
    "}"
   ]
  },
  {
   "cell_type": "code",
   "execution_count": 31,
   "metadata": {},
   "outputs": [],
   "source": [
    "grid_search = GridSearchCV(pipe,param_grid=param_grid, n_jobs=1)"
   ]
  },
  {
   "cell_type": "code",
   "execution_count": 32,
   "metadata": {},
   "outputs": [
    {
     "data": {
      "text/html": [
       "<style>#sk-2e584e0a-8360-4469-87f2-b1546b836fd9 {color: black;background-color: white;}#sk-2e584e0a-8360-4469-87f2-b1546b836fd9 pre{padding: 0;}#sk-2e584e0a-8360-4469-87f2-b1546b836fd9 div.sk-toggleable {background-color: white;}#sk-2e584e0a-8360-4469-87f2-b1546b836fd9 label.sk-toggleable__label {cursor: pointer;display: block;width: 100%;margin-bottom: 0;padding: 0.3em;box-sizing: border-box;text-align: center;}#sk-2e584e0a-8360-4469-87f2-b1546b836fd9 label.sk-toggleable__label-arrow:before {content: \"▸\";float: left;margin-right: 0.25em;color: #696969;}#sk-2e584e0a-8360-4469-87f2-b1546b836fd9 label.sk-toggleable__label-arrow:hover:before {color: black;}#sk-2e584e0a-8360-4469-87f2-b1546b836fd9 div.sk-estimator:hover label.sk-toggleable__label-arrow:before {color: black;}#sk-2e584e0a-8360-4469-87f2-b1546b836fd9 div.sk-toggleable__content {max-height: 0;max-width: 0;overflow: hidden;text-align: left;background-color: #f0f8ff;}#sk-2e584e0a-8360-4469-87f2-b1546b836fd9 div.sk-toggleable__content pre {margin: 0.2em;color: black;border-radius: 0.25em;background-color: #f0f8ff;}#sk-2e584e0a-8360-4469-87f2-b1546b836fd9 input.sk-toggleable__control:checked~div.sk-toggleable__content {max-height: 200px;max-width: 100%;overflow: auto;}#sk-2e584e0a-8360-4469-87f2-b1546b836fd9 input.sk-toggleable__control:checked~label.sk-toggleable__label-arrow:before {content: \"▾\";}#sk-2e584e0a-8360-4469-87f2-b1546b836fd9 div.sk-estimator input.sk-toggleable__control:checked~label.sk-toggleable__label {background-color: #d4ebff;}#sk-2e584e0a-8360-4469-87f2-b1546b836fd9 div.sk-label input.sk-toggleable__control:checked~label.sk-toggleable__label {background-color: #d4ebff;}#sk-2e584e0a-8360-4469-87f2-b1546b836fd9 input.sk-hidden--visually {border: 0;clip: rect(1px 1px 1px 1px);clip: rect(1px, 1px, 1px, 1px);height: 1px;margin: -1px;overflow: hidden;padding: 0;position: absolute;width: 1px;}#sk-2e584e0a-8360-4469-87f2-b1546b836fd9 div.sk-estimator {font-family: monospace;background-color: #f0f8ff;border: 1px dotted black;border-radius: 0.25em;box-sizing: border-box;margin-bottom: 0.5em;}#sk-2e584e0a-8360-4469-87f2-b1546b836fd9 div.sk-estimator:hover {background-color: #d4ebff;}#sk-2e584e0a-8360-4469-87f2-b1546b836fd9 div.sk-parallel-item::after {content: \"\";width: 100%;border-bottom: 1px solid gray;flex-grow: 1;}#sk-2e584e0a-8360-4469-87f2-b1546b836fd9 div.sk-label:hover label.sk-toggleable__label {background-color: #d4ebff;}#sk-2e584e0a-8360-4469-87f2-b1546b836fd9 div.sk-serial::before {content: \"\";position: absolute;border-left: 1px solid gray;box-sizing: border-box;top: 2em;bottom: 0;left: 50%;}#sk-2e584e0a-8360-4469-87f2-b1546b836fd9 div.sk-serial {display: flex;flex-direction: column;align-items: center;background-color: white;padding-right: 0.2em;padding-left: 0.2em;}#sk-2e584e0a-8360-4469-87f2-b1546b836fd9 div.sk-item {z-index: 1;}#sk-2e584e0a-8360-4469-87f2-b1546b836fd9 div.sk-parallel {display: flex;align-items: stretch;justify-content: center;background-color: white;}#sk-2e584e0a-8360-4469-87f2-b1546b836fd9 div.sk-parallel::before {content: \"\";position: absolute;border-left: 1px solid gray;box-sizing: border-box;top: 2em;bottom: 0;left: 50%;}#sk-2e584e0a-8360-4469-87f2-b1546b836fd9 div.sk-parallel-item {display: flex;flex-direction: column;position: relative;background-color: white;}#sk-2e584e0a-8360-4469-87f2-b1546b836fd9 div.sk-parallel-item:first-child::after {align-self: flex-end;width: 50%;}#sk-2e584e0a-8360-4469-87f2-b1546b836fd9 div.sk-parallel-item:last-child::after {align-self: flex-start;width: 50%;}#sk-2e584e0a-8360-4469-87f2-b1546b836fd9 div.sk-parallel-item:only-child::after {width: 0;}#sk-2e584e0a-8360-4469-87f2-b1546b836fd9 div.sk-dashed-wrapped {border: 1px dashed gray;margin: 0 0.4em 0.5em 0.4em;box-sizing: border-box;padding-bottom: 0.4em;background-color: white;position: relative;}#sk-2e584e0a-8360-4469-87f2-b1546b836fd9 div.sk-label label {font-family: monospace;font-weight: bold;background-color: white;display: inline-block;line-height: 1.2em;}#sk-2e584e0a-8360-4469-87f2-b1546b836fd9 div.sk-label-container {position: relative;z-index: 2;text-align: center;}#sk-2e584e0a-8360-4469-87f2-b1546b836fd9 div.sk-container {/* jupyter's `normalize.less` sets `[hidden] { display: none; }` but bootstrap.min.css set `[hidden] { display: none !important; }` so we also need the `!important` here to be able to override the default hidden behavior on the sphinx rendered scikit-learn.org. See: https://github.com/scikit-learn/scikit-learn/issues/21755 */display: inline-block !important;position: relative;}#sk-2e584e0a-8360-4469-87f2-b1546b836fd9 div.sk-text-repr-fallback {display: none;}</style><div id=\"sk-2e584e0a-8360-4469-87f2-b1546b836fd9\" class=\"sk-top-container\"><div class=\"sk-text-repr-fallback\"><pre>GridSearchCV(estimator=Pipeline(steps=[(&#x27;preprocessor&#x27;,\n",
       "                                        Pipeline(steps=[(&#x27;categorical&#x27;,\n",
       "                                                         Pipeline(steps=[(&#x27;imputation_constant&#x27;,\n",
       "                                                                          SimpleImputer(fill_value=&#x27;missing&#x27;,\n",
       "                                                                                        strategy=&#x27;constant&#x27;)),\n",
       "                                                                         (&#x27;onehot&#x27;,\n",
       "                                                                          OneHotEncoder(handle_unknown=&#x27;ignore&#x27;))])),\n",
       "                                                        (&#x27;numerical&#x27;,\n",
       "                                                         Pipeline(steps=[(&#x27;imputation_mean&#x27;,\n",
       "                                                                          SimpleImputer()),\n",
       "                                                                         (&#x27;scaler&#x27;,\n",
       "                                                                          StandardScaler(with_mean=False))]))])),\n",
       "                                       (&#x27;regressor&#x27;, RandomForestRegressor())]),\n",
       "             n_jobs=1,\n",
       "             param_grid={&#x27;regressor__max_depth&#x27;: [4, 5, 6, 7, 8],\n",
       "                         &#x27;regressor__max_features&#x27;: [&#x27;auto&#x27;, &#x27;sqrt&#x27;, &#x27;log2&#x27;],\n",
       "                         &#x27;regressor__n_estimators&#x27;: [200, 500]})</pre><b>Please rerun this cell to show the HTML repr or trust the notebook.</b></div><div class=\"sk-container\" hidden><div class=\"sk-item sk-dashed-wrapped\"><div class=\"sk-label-container\"><div class=\"sk-label sk-toggleable\"><input class=\"sk-toggleable__control sk-hidden--visually\" id=\"75c216cd-d8b7-40c4-9f46-1d5b06d0c5f5\" type=\"checkbox\" ><label for=\"75c216cd-d8b7-40c4-9f46-1d5b06d0c5f5\" class=\"sk-toggleable__label sk-toggleable__label-arrow\">GridSearchCV</label><div class=\"sk-toggleable__content\"><pre>GridSearchCV(estimator=Pipeline(steps=[(&#x27;preprocessor&#x27;,\n",
       "                                        Pipeline(steps=[(&#x27;categorical&#x27;,\n",
       "                                                         Pipeline(steps=[(&#x27;imputation_constant&#x27;,\n",
       "                                                                          SimpleImputer(fill_value=&#x27;missing&#x27;,\n",
       "                                                                                        strategy=&#x27;constant&#x27;)),\n",
       "                                                                         (&#x27;onehot&#x27;,\n",
       "                                                                          OneHotEncoder(handle_unknown=&#x27;ignore&#x27;))])),\n",
       "                                                        (&#x27;numerical&#x27;,\n",
       "                                                         Pipeline(steps=[(&#x27;imputation_mean&#x27;,\n",
       "                                                                          SimpleImputer()),\n",
       "                                                                         (&#x27;scaler&#x27;,\n",
       "                                                                          StandardScaler(with_mean=False))]))])),\n",
       "                                       (&#x27;regressor&#x27;, RandomForestRegressor())]),\n",
       "             n_jobs=1,\n",
       "             param_grid={&#x27;regressor__max_depth&#x27;: [4, 5, 6, 7, 8],\n",
       "                         &#x27;regressor__max_features&#x27;: [&#x27;auto&#x27;, &#x27;sqrt&#x27;, &#x27;log2&#x27;],\n",
       "                         &#x27;regressor__n_estimators&#x27;: [200, 500]})</pre></div></div></div><div class=\"sk-parallel\"><div class=\"sk-parallel-item\"><div class=\"sk-item\"><div class=\"sk-serial\"><div class=\"sk-item\"><div class=\"sk-serial\"><div class=\"sk-item\"><div class=\"sk-label-container\"><div class=\"sk-label sk-toggleable\"><input class=\"sk-toggleable__control sk-hidden--visually\" id=\"e7ed3643-c76f-4b9b-9827-539d5de71fb8\" type=\"checkbox\" ><label for=\"e7ed3643-c76f-4b9b-9827-539d5de71fb8\" class=\"sk-toggleable__label sk-toggleable__label-arrow\">preprocessor: Pipeline</label><div class=\"sk-toggleable__content\"><pre>Pipeline(steps=[(&#x27;categorical&#x27;,\n",
       "                 Pipeline(steps=[(&#x27;imputation_constant&#x27;,\n",
       "                                  SimpleImputer(fill_value=&#x27;missing&#x27;,\n",
       "                                                strategy=&#x27;constant&#x27;)),\n",
       "                                 (&#x27;onehot&#x27;,\n",
       "                                  OneHotEncoder(handle_unknown=&#x27;ignore&#x27;))])),\n",
       "                (&#x27;numerical&#x27;,\n",
       "                 Pipeline(steps=[(&#x27;imputation_mean&#x27;, SimpleImputer()),\n",
       "                                 (&#x27;scaler&#x27;,\n",
       "                                  StandardScaler(with_mean=False))]))])</pre></div></div></div><div class=\"sk-serial\"><div class=\"sk-item\"><div class=\"sk-label-container\"><div class=\"sk-label sk-toggleable\"><input class=\"sk-toggleable__control sk-hidden--visually\" id=\"594d2cbe-7c7f-41c4-87e9-6578bc20813c\" type=\"checkbox\" ><label for=\"594d2cbe-7c7f-41c4-87e9-6578bc20813c\" class=\"sk-toggleable__label sk-toggleable__label-arrow\">categorical: Pipeline</label><div class=\"sk-toggleable__content\"><pre>Pipeline(steps=[(&#x27;imputation_constant&#x27;,\n",
       "                 SimpleImputer(fill_value=&#x27;missing&#x27;, strategy=&#x27;constant&#x27;)),\n",
       "                (&#x27;onehot&#x27;, OneHotEncoder(handle_unknown=&#x27;ignore&#x27;))])</pre></div></div></div><div class=\"sk-serial\"><div class=\"sk-item\"><div class=\"sk-estimator sk-toggleable\"><input class=\"sk-toggleable__control sk-hidden--visually\" id=\"e539c42c-5a84-4a35-93cc-ccfb4a04905c\" type=\"checkbox\" ><label for=\"e539c42c-5a84-4a35-93cc-ccfb4a04905c\" class=\"sk-toggleable__label sk-toggleable__label-arrow\">SimpleImputer</label><div class=\"sk-toggleable__content\"><pre>SimpleImputer(fill_value=&#x27;missing&#x27;, strategy=&#x27;constant&#x27;)</pre></div></div></div><div class=\"sk-item\"><div class=\"sk-estimator sk-toggleable\"><input class=\"sk-toggleable__control sk-hidden--visually\" id=\"bf2bda24-4cba-41aa-b73d-43408da61b9a\" type=\"checkbox\" ><label for=\"bf2bda24-4cba-41aa-b73d-43408da61b9a\" class=\"sk-toggleable__label sk-toggleable__label-arrow\">OneHotEncoder</label><div class=\"sk-toggleable__content\"><pre>OneHotEncoder(handle_unknown=&#x27;ignore&#x27;)</pre></div></div></div></div></div><div class=\"sk-item\"><div class=\"sk-label-container\"><div class=\"sk-label sk-toggleable\"><input class=\"sk-toggleable__control sk-hidden--visually\" id=\"c54adb79-09ab-413f-87e9-eca0d78b0b18\" type=\"checkbox\" ><label for=\"c54adb79-09ab-413f-87e9-eca0d78b0b18\" class=\"sk-toggleable__label sk-toggleable__label-arrow\">numerical: Pipeline</label><div class=\"sk-toggleable__content\"><pre>Pipeline(steps=[(&#x27;imputation_mean&#x27;, SimpleImputer()),\n",
       "                (&#x27;scaler&#x27;, StandardScaler(with_mean=False))])</pre></div></div></div><div class=\"sk-serial\"><div class=\"sk-item\"><div class=\"sk-estimator sk-toggleable\"><input class=\"sk-toggleable__control sk-hidden--visually\" id=\"387521ad-7858-485f-9469-70aedf570b61\" type=\"checkbox\" ><label for=\"387521ad-7858-485f-9469-70aedf570b61\" class=\"sk-toggleable__label sk-toggleable__label-arrow\">SimpleImputer</label><div class=\"sk-toggleable__content\"><pre>SimpleImputer()</pre></div></div></div><div class=\"sk-item\"><div class=\"sk-estimator sk-toggleable\"><input class=\"sk-toggleable__control sk-hidden--visually\" id=\"095dce0e-5cf2-4cd0-82c6-5a5c6aff86b2\" type=\"checkbox\" ><label for=\"095dce0e-5cf2-4cd0-82c6-5a5c6aff86b2\" class=\"sk-toggleable__label sk-toggleable__label-arrow\">StandardScaler</label><div class=\"sk-toggleable__content\"><pre>StandardScaler(with_mean=False)</pre></div></div></div></div></div></div></div><div class=\"sk-item\"><div class=\"sk-estimator sk-toggleable\"><input class=\"sk-toggleable__control sk-hidden--visually\" id=\"b5e8069d-9caa-44d8-9830-cc15a45251de\" type=\"checkbox\" ><label for=\"b5e8069d-9caa-44d8-9830-cc15a45251de\" class=\"sk-toggleable__label sk-toggleable__label-arrow\">RandomForestRegressor</label><div class=\"sk-toggleable__content\"><pre>RandomForestRegressor()</pre></div></div></div></div></div></div></div></div></div></div></div></div>"
      ],
      "text/plain": [
       "GridSearchCV(estimator=Pipeline(steps=[('preprocessor',\n",
       "                                        Pipeline(steps=[('categorical',\n",
       "                                                         Pipeline(steps=[('imputation_constant',\n",
       "                                                                          SimpleImputer(fill_value='missing',\n",
       "                                                                                        strategy='constant')),\n",
       "                                                                         ('onehot',\n",
       "                                                                          OneHotEncoder(handle_unknown='ignore'))])),\n",
       "                                                        ('numerical',\n",
       "                                                         Pipeline(steps=[('imputation_mean',\n",
       "                                                                          SimpleImputer()),\n",
       "                                                                         ('scaler',\n",
       "                                                                          StandardScaler(with_mean=False))]))])),\n",
       "                                       ('regressor', RandomForestRegressor())]),\n",
       "             n_jobs=1,\n",
       "             param_grid={'regressor__max_depth': [4, 5, 6, 7, 8],\n",
       "                         'regressor__max_features': ['auto', 'sqrt', 'log2'],\n",
       "                         'regressor__n_estimators': [200, 500]})"
      ]
     },
     "execution_count": 32,
     "metadata": {},
     "output_type": "execute_result"
    }
   ],
   "source": [
    "grid_search.fit(X_train,y_train)"
   ]
  },
  {
   "cell_type": "code",
   "execution_count": 33,
   "metadata": {},
   "outputs": [
    {
     "data": {
      "text/plain": [
       "{'regressor__max_depth': 8,\n",
       " 'regressor__max_features': 'sqrt',\n",
       " 'regressor__n_estimators': 200}"
      ]
     },
     "execution_count": 33,
     "metadata": {},
     "output_type": "execute_result"
    }
   ],
   "source": [
    "grid_search.best_params_"
   ]
  },
  {
   "cell_type": "code",
   "execution_count": 35,
   "metadata": {},
   "outputs": [],
   "source": [
    "pipe=Pipeline(\n",
    "    [(\"preprocessor\",preprocessor),(\"regressor\",RandomForestRegressor(max_depth= 8, max_features= 'sqrt', n_estimators= 200))]\n",
    ")"
   ]
  },
  {
   "cell_type": "code",
   "execution_count": 36,
   "metadata": {},
   "outputs": [
    {
     "data": {
      "text/html": [
       "<style>#sk-d6216823-f637-4045-a50a-b1e91f0c1112 {color: black;background-color: white;}#sk-d6216823-f637-4045-a50a-b1e91f0c1112 pre{padding: 0;}#sk-d6216823-f637-4045-a50a-b1e91f0c1112 div.sk-toggleable {background-color: white;}#sk-d6216823-f637-4045-a50a-b1e91f0c1112 label.sk-toggleable__label {cursor: pointer;display: block;width: 100%;margin-bottom: 0;padding: 0.3em;box-sizing: border-box;text-align: center;}#sk-d6216823-f637-4045-a50a-b1e91f0c1112 label.sk-toggleable__label-arrow:before {content: \"▸\";float: left;margin-right: 0.25em;color: #696969;}#sk-d6216823-f637-4045-a50a-b1e91f0c1112 label.sk-toggleable__label-arrow:hover:before {color: black;}#sk-d6216823-f637-4045-a50a-b1e91f0c1112 div.sk-estimator:hover label.sk-toggleable__label-arrow:before {color: black;}#sk-d6216823-f637-4045-a50a-b1e91f0c1112 div.sk-toggleable__content {max-height: 0;max-width: 0;overflow: hidden;text-align: left;background-color: #f0f8ff;}#sk-d6216823-f637-4045-a50a-b1e91f0c1112 div.sk-toggleable__content pre {margin: 0.2em;color: black;border-radius: 0.25em;background-color: #f0f8ff;}#sk-d6216823-f637-4045-a50a-b1e91f0c1112 input.sk-toggleable__control:checked~div.sk-toggleable__content {max-height: 200px;max-width: 100%;overflow: auto;}#sk-d6216823-f637-4045-a50a-b1e91f0c1112 input.sk-toggleable__control:checked~label.sk-toggleable__label-arrow:before {content: \"▾\";}#sk-d6216823-f637-4045-a50a-b1e91f0c1112 div.sk-estimator input.sk-toggleable__control:checked~label.sk-toggleable__label {background-color: #d4ebff;}#sk-d6216823-f637-4045-a50a-b1e91f0c1112 div.sk-label input.sk-toggleable__control:checked~label.sk-toggleable__label {background-color: #d4ebff;}#sk-d6216823-f637-4045-a50a-b1e91f0c1112 input.sk-hidden--visually {border: 0;clip: rect(1px 1px 1px 1px);clip: rect(1px, 1px, 1px, 1px);height: 1px;margin: -1px;overflow: hidden;padding: 0;position: absolute;width: 1px;}#sk-d6216823-f637-4045-a50a-b1e91f0c1112 div.sk-estimator {font-family: monospace;background-color: #f0f8ff;border: 1px dotted black;border-radius: 0.25em;box-sizing: border-box;margin-bottom: 0.5em;}#sk-d6216823-f637-4045-a50a-b1e91f0c1112 div.sk-estimator:hover {background-color: #d4ebff;}#sk-d6216823-f637-4045-a50a-b1e91f0c1112 div.sk-parallel-item::after {content: \"\";width: 100%;border-bottom: 1px solid gray;flex-grow: 1;}#sk-d6216823-f637-4045-a50a-b1e91f0c1112 div.sk-label:hover label.sk-toggleable__label {background-color: #d4ebff;}#sk-d6216823-f637-4045-a50a-b1e91f0c1112 div.sk-serial::before {content: \"\";position: absolute;border-left: 1px solid gray;box-sizing: border-box;top: 2em;bottom: 0;left: 50%;}#sk-d6216823-f637-4045-a50a-b1e91f0c1112 div.sk-serial {display: flex;flex-direction: column;align-items: center;background-color: white;padding-right: 0.2em;padding-left: 0.2em;}#sk-d6216823-f637-4045-a50a-b1e91f0c1112 div.sk-item {z-index: 1;}#sk-d6216823-f637-4045-a50a-b1e91f0c1112 div.sk-parallel {display: flex;align-items: stretch;justify-content: center;background-color: white;}#sk-d6216823-f637-4045-a50a-b1e91f0c1112 div.sk-parallel::before {content: \"\";position: absolute;border-left: 1px solid gray;box-sizing: border-box;top: 2em;bottom: 0;left: 50%;}#sk-d6216823-f637-4045-a50a-b1e91f0c1112 div.sk-parallel-item {display: flex;flex-direction: column;position: relative;background-color: white;}#sk-d6216823-f637-4045-a50a-b1e91f0c1112 div.sk-parallel-item:first-child::after {align-self: flex-end;width: 50%;}#sk-d6216823-f637-4045-a50a-b1e91f0c1112 div.sk-parallel-item:last-child::after {align-self: flex-start;width: 50%;}#sk-d6216823-f637-4045-a50a-b1e91f0c1112 div.sk-parallel-item:only-child::after {width: 0;}#sk-d6216823-f637-4045-a50a-b1e91f0c1112 div.sk-dashed-wrapped {border: 1px dashed gray;margin: 0 0.4em 0.5em 0.4em;box-sizing: border-box;padding-bottom: 0.4em;background-color: white;position: relative;}#sk-d6216823-f637-4045-a50a-b1e91f0c1112 div.sk-label label {font-family: monospace;font-weight: bold;background-color: white;display: inline-block;line-height: 1.2em;}#sk-d6216823-f637-4045-a50a-b1e91f0c1112 div.sk-label-container {position: relative;z-index: 2;text-align: center;}#sk-d6216823-f637-4045-a50a-b1e91f0c1112 div.sk-container {/* jupyter's `normalize.less` sets `[hidden] { display: none; }` but bootstrap.min.css set `[hidden] { display: none !important; }` so we also need the `!important` here to be able to override the default hidden behavior on the sphinx rendered scikit-learn.org. See: https://github.com/scikit-learn/scikit-learn/issues/21755 */display: inline-block !important;position: relative;}#sk-d6216823-f637-4045-a50a-b1e91f0c1112 div.sk-text-repr-fallback {display: none;}</style><div id=\"sk-d6216823-f637-4045-a50a-b1e91f0c1112\" class=\"sk-top-container\"><div class=\"sk-text-repr-fallback\"><pre>Pipeline(steps=[(&#x27;preprocessor&#x27;,\n",
       "                 Pipeline(steps=[(&#x27;categorical&#x27;,\n",
       "                                  Pipeline(steps=[(&#x27;imputation_constant&#x27;,\n",
       "                                                   SimpleImputer(fill_value=&#x27;missing&#x27;,\n",
       "                                                                 strategy=&#x27;constant&#x27;)),\n",
       "                                                  (&#x27;onehot&#x27;,\n",
       "                                                   OneHotEncoder(handle_unknown=&#x27;ignore&#x27;))])),\n",
       "                                 (&#x27;numerical&#x27;,\n",
       "                                  Pipeline(steps=[(&#x27;imputation_mean&#x27;,\n",
       "                                                   SimpleImputer()),\n",
       "                                                  (&#x27;scaler&#x27;,\n",
       "                                                   StandardScaler(with_mean=False))]))])),\n",
       "                (&#x27;regressor&#x27;,\n",
       "                 RandomForestRegressor(max_depth=8, max_features=&#x27;sqrt&#x27;,\n",
       "                                       n_estimators=200))])</pre><b>Please rerun this cell to show the HTML repr or trust the notebook.</b></div><div class=\"sk-container\" hidden><div class=\"sk-item sk-dashed-wrapped\"><div class=\"sk-label-container\"><div class=\"sk-label sk-toggleable\"><input class=\"sk-toggleable__control sk-hidden--visually\" id=\"6cfa2cd6-353e-4c3a-8c59-fffe026a42bc\" type=\"checkbox\" ><label for=\"6cfa2cd6-353e-4c3a-8c59-fffe026a42bc\" class=\"sk-toggleable__label sk-toggleable__label-arrow\">Pipeline</label><div class=\"sk-toggleable__content\"><pre>Pipeline(steps=[(&#x27;preprocessor&#x27;,\n",
       "                 Pipeline(steps=[(&#x27;categorical&#x27;,\n",
       "                                  Pipeline(steps=[(&#x27;imputation_constant&#x27;,\n",
       "                                                   SimpleImputer(fill_value=&#x27;missing&#x27;,\n",
       "                                                                 strategy=&#x27;constant&#x27;)),\n",
       "                                                  (&#x27;onehot&#x27;,\n",
       "                                                   OneHotEncoder(handle_unknown=&#x27;ignore&#x27;))])),\n",
       "                                 (&#x27;numerical&#x27;,\n",
       "                                  Pipeline(steps=[(&#x27;imputation_mean&#x27;,\n",
       "                                                   SimpleImputer()),\n",
       "                                                  (&#x27;scaler&#x27;,\n",
       "                                                   StandardScaler(with_mean=False))]))])),\n",
       "                (&#x27;regressor&#x27;,\n",
       "                 RandomForestRegressor(max_depth=8, max_features=&#x27;sqrt&#x27;,\n",
       "                                       n_estimators=200))])</pre></div></div></div><div class=\"sk-serial\"><div class=\"sk-item\"><div class=\"sk-label-container\"><div class=\"sk-label sk-toggleable\"><input class=\"sk-toggleable__control sk-hidden--visually\" id=\"a3ac33cc-a867-401a-bc5c-a90c7bef5668\" type=\"checkbox\" ><label for=\"a3ac33cc-a867-401a-bc5c-a90c7bef5668\" class=\"sk-toggleable__label sk-toggleable__label-arrow\">preprocessor: Pipeline</label><div class=\"sk-toggleable__content\"><pre>Pipeline(steps=[(&#x27;categorical&#x27;,\n",
       "                 Pipeline(steps=[(&#x27;imputation_constant&#x27;,\n",
       "                                  SimpleImputer(fill_value=&#x27;missing&#x27;,\n",
       "                                                strategy=&#x27;constant&#x27;)),\n",
       "                                 (&#x27;onehot&#x27;,\n",
       "                                  OneHotEncoder(handle_unknown=&#x27;ignore&#x27;))])),\n",
       "                (&#x27;numerical&#x27;,\n",
       "                 Pipeline(steps=[(&#x27;imputation_mean&#x27;, SimpleImputer()),\n",
       "                                 (&#x27;scaler&#x27;,\n",
       "                                  StandardScaler(with_mean=False))]))])</pre></div></div></div><div class=\"sk-serial\"><div class=\"sk-item\"><div class=\"sk-label-container\"><div class=\"sk-label sk-toggleable\"><input class=\"sk-toggleable__control sk-hidden--visually\" id=\"7001d272-8970-4f32-9ed8-282e5537e6ce\" type=\"checkbox\" ><label for=\"7001d272-8970-4f32-9ed8-282e5537e6ce\" class=\"sk-toggleable__label sk-toggleable__label-arrow\">categorical: Pipeline</label><div class=\"sk-toggleable__content\"><pre>Pipeline(steps=[(&#x27;imputation_constant&#x27;,\n",
       "                 SimpleImputer(fill_value=&#x27;missing&#x27;, strategy=&#x27;constant&#x27;)),\n",
       "                (&#x27;onehot&#x27;, OneHotEncoder(handle_unknown=&#x27;ignore&#x27;))])</pre></div></div></div><div class=\"sk-serial\"><div class=\"sk-item\"><div class=\"sk-estimator sk-toggleable\"><input class=\"sk-toggleable__control sk-hidden--visually\" id=\"7b672f11-d6e6-4046-91c7-81ef59f7e8b5\" type=\"checkbox\" ><label for=\"7b672f11-d6e6-4046-91c7-81ef59f7e8b5\" class=\"sk-toggleable__label sk-toggleable__label-arrow\">SimpleImputer</label><div class=\"sk-toggleable__content\"><pre>SimpleImputer(fill_value=&#x27;missing&#x27;, strategy=&#x27;constant&#x27;)</pre></div></div></div><div class=\"sk-item\"><div class=\"sk-estimator sk-toggleable\"><input class=\"sk-toggleable__control sk-hidden--visually\" id=\"5e2f5163-720e-4c95-b397-751a3f79b0ba\" type=\"checkbox\" ><label for=\"5e2f5163-720e-4c95-b397-751a3f79b0ba\" class=\"sk-toggleable__label sk-toggleable__label-arrow\">OneHotEncoder</label><div class=\"sk-toggleable__content\"><pre>OneHotEncoder(handle_unknown=&#x27;ignore&#x27;)</pre></div></div></div></div></div><div class=\"sk-item\"><div class=\"sk-label-container\"><div class=\"sk-label sk-toggleable\"><input class=\"sk-toggleable__control sk-hidden--visually\" id=\"44612216-980c-45cc-89fa-33721f18c83e\" type=\"checkbox\" ><label for=\"44612216-980c-45cc-89fa-33721f18c83e\" class=\"sk-toggleable__label sk-toggleable__label-arrow\">numerical: Pipeline</label><div class=\"sk-toggleable__content\"><pre>Pipeline(steps=[(&#x27;imputation_mean&#x27;, SimpleImputer()),\n",
       "                (&#x27;scaler&#x27;, StandardScaler(with_mean=False))])</pre></div></div></div><div class=\"sk-serial\"><div class=\"sk-item\"><div class=\"sk-estimator sk-toggleable\"><input class=\"sk-toggleable__control sk-hidden--visually\" id=\"c7a56a28-d00c-46ce-ab68-31d316d7be27\" type=\"checkbox\" ><label for=\"c7a56a28-d00c-46ce-ab68-31d316d7be27\" class=\"sk-toggleable__label sk-toggleable__label-arrow\">SimpleImputer</label><div class=\"sk-toggleable__content\"><pre>SimpleImputer()</pre></div></div></div><div class=\"sk-item\"><div class=\"sk-estimator sk-toggleable\"><input class=\"sk-toggleable__control sk-hidden--visually\" id=\"863adca7-d564-4c4d-8564-0936e55dd580\" type=\"checkbox\" ><label for=\"863adca7-d564-4c4d-8564-0936e55dd580\" class=\"sk-toggleable__label sk-toggleable__label-arrow\">StandardScaler</label><div class=\"sk-toggleable__content\"><pre>StandardScaler(with_mean=False)</pre></div></div></div></div></div></div></div><div class=\"sk-item\"><div class=\"sk-estimator sk-toggleable\"><input class=\"sk-toggleable__control sk-hidden--visually\" id=\"000bda4c-f9c0-4c40-a3ab-db44ee2eaa78\" type=\"checkbox\" ><label for=\"000bda4c-f9c0-4c40-a3ab-db44ee2eaa78\" class=\"sk-toggleable__label sk-toggleable__label-arrow\">RandomForestRegressor</label><div class=\"sk-toggleable__content\"><pre>RandomForestRegressor(max_depth=8, max_features=&#x27;sqrt&#x27;, n_estimators=200)</pre></div></div></div></div></div></div></div>"
      ],
      "text/plain": [
       "Pipeline(steps=[('preprocessor',\n",
       "                 Pipeline(steps=[('categorical',\n",
       "                                  Pipeline(steps=[('imputation_constant',\n",
       "                                                   SimpleImputer(fill_value='missing',\n",
       "                                                                 strategy='constant')),\n",
       "                                                  ('onehot',\n",
       "                                                   OneHotEncoder(handle_unknown='ignore'))])),\n",
       "                                 ('numerical',\n",
       "                                  Pipeline(steps=[('imputation_mean',\n",
       "                                                   SimpleImputer()),\n",
       "                                                  ('scaler',\n",
       "                                                   StandardScaler(with_mean=False))]))])),\n",
       "                ('regressor',\n",
       "                 RandomForestRegressor(max_depth=8, max_features='sqrt',\n",
       "                                       n_estimators=200))])"
      ]
     },
     "execution_count": 36,
     "metadata": {},
     "output_type": "execute_result"
    }
   ],
   "source": [
    "pipe.fit(X_train,y_train)"
   ]
  },
  {
   "cell_type": "code",
   "execution_count": 37,
   "metadata": {},
   "outputs": [
    {
     "data": {
      "text/plain": [
       "array([14.59208226, 17.6591216 , 16.32758672, 16.35956246, 16.76421178,\n",
       "       13.85427207, 15.22672762, 25.3279354 , 16.60924412, 21.78701963,\n",
       "       17.25389265, 32.70325266, 17.35644036, 16.25051842, 16.75156985,\n",
       "       17.92283017, 17.93380816, 24.49211499, 14.202116  , 18.11081809,\n",
       "       26.20410658, 17.93133837, 16.84263015, 25.08342934, 26.09034321,\n",
       "       16.64806315, 17.53652281, 16.15065759, 19.33816074, 16.73865389,\n",
       "       15.80229013, 25.11084629, 17.51387743, 26.81257574, 18.27794524,\n",
       "       17.09254934, 16.85361828, 10.8025497 , 22.46638421, 22.83212777,\n",
       "       15.4863703 , 16.44592023, 36.16517404, 15.71528032, 15.07191121,\n",
       "       28.0812595 , 15.61539172, 21.6095277 , 17.06753199, 23.14990767,\n",
       "       21.77351342, 17.34155732, 14.59798626, 15.28226621, 17.37764589,\n",
       "       25.34477005, 16.38489618, 24.32312658, 21.91133286, 15.95239202,\n",
       "       17.33556014, 24.01377135, 15.87675159, 16.45152575, 21.76475381,\n",
       "       21.6962251 , 18.3132151 , 29.36192515, 17.33870393, 19.0376908 ,\n",
       "       16.96518706, 16.32381103, 15.59307015, 17.5340253 , 17.19253011,\n",
       "       18.29216554, 34.05315404, 14.59208226, 19.37225407, 28.13898557,\n",
       "       15.4863703 , 17.3354981 , 25.038263  , 17.09943686, 15.07191121,\n",
       "       22.55356127, 22.34344152, 27.31846096, 17.10037307, 21.55400594,\n",
       "       15.07191121, 25.63965511, 13.25078992, 15.8614991 , 17.35644036,\n",
       "       30.48326638, 16.87680179, 23.88263504, 17.97280779, 26.19298059,\n",
       "       17.98632824, 18.29216554, 18.95340718, 17.76644156, 16.60377371,\n",
       "       20.97329018, 14.59798626, 24.63331494, 20.7954161 , 22.54729855,\n",
       "       17.10037307, 16.94732498, 22.71553232, 14.25801243, 25.71679041,\n",
       "       17.82134891, 18.76824291, 17.64867163, 15.8614991 , 17.31337502,\n",
       "       23.89770206, 18.27866488, 16.80209431, 33.03212544, 28.05542617,\n",
       "       22.04482217, 23.35136593, 17.64129643, 16.12922531, 16.30998796,\n",
       "       23.34133304, 15.98143741, 15.98780599, 17.12674014, 20.49377853,\n",
       "       16.73142025, 18.44390805, 16.48504791, 16.3302179 , 15.66873126,\n",
       "       24.2544659 , 15.22672762, 33.21739638, 17.28605648, 17.85223774,\n",
       "       17.12674014, 24.22776611, 12.14069965, 23.60438929, 17.65466217,\n",
       "       24.03939765, 17.6392292 , 25.34080781, 24.02619174, 16.90344801,\n",
       "       18.52371725, 24.36860435, 22.66321222, 23.14990767, 20.54559796,\n",
       "       18.39301105, 19.64588534, 25.05975608, 17.91902302, 24.18737417,\n",
       "       16.60924412, 17.6591216 , 18.69329961, 14.59208226, 18.00549917,\n",
       "       17.378979  , 18.05930423, 29.85639339, 15.64046592, 17.3050247 ,\n",
       "       18.66429685, 15.32550812, 23.14990767, 17.23665634, 15.41207315,\n",
       "       17.65415262, 21.00076617, 17.55319581, 16.72356664, 28.82857388,\n",
       "       24.13659382, 19.33816074, 17.14207069, 16.95021811, 17.40622447,\n",
       "       17.33870393, 21.40403085, 17.01765977, 14.44182962, 17.08189014])"
      ]
     },
     "execution_count": 37,
     "metadata": {},
     "output_type": "execute_result"
    }
   ],
   "source": [
    "pipe.predict(X_train)"
   ]
  },
  {
   "cell_type": "code",
   "execution_count": null,
   "metadata": {},
   "outputs": [],
   "source": []
  }
 ],
 "metadata": {
  "kernelspec": {
   "display_name": "Python 3 (ipykernel)",
   "language": "python",
   "name": "python3"
  },
  "language_info": {
   "codemirror_mode": {
    "name": "ipython",
    "version": 3
   },
   "file_extension": ".py",
   "mimetype": "text/x-python",
   "name": "python",
   "nbconvert_exporter": "python",
   "pygments_lexer": "ipython3",
   "version": "3.9.12"
  }
 },
 "nbformat": 4,
 "nbformat_minor": 4
}
