{
 "cells": [
  {
   "cell_type": "code",
   "execution_count": 1,
   "metadata": {},
   "outputs": [],
   "source": [
    "from sklearn.pipeline import Pipeline\n",
    "##feature Scaling\n",
    "from sklearn.preprocessing import StandardScaler\n",
    "from sklearn.linear_model import LogisticRegression"
   ]
  },
  {
   "cell_type": "code",
   "execution_count": 2,
   "metadata": {},
   "outputs": [],
   "source": [
    "steps=[(\"standard_scaler\",StandardScaler()),\n",
    "      (\"classifier\",LogisticRegression())]"
   ]
  },
  {
   "cell_type": "code",
   "execution_count": 3,
   "metadata": {},
   "outputs": [
    {
     "data": {
      "text/plain": [
       "[('standard_scaler', StandardScaler()), ('classifier', LogisticRegression())]"
      ]
     },
     "execution_count": 3,
     "metadata": {},
     "output_type": "execute_result"
    }
   ],
   "source": [
    "steps"
   ]
  },
  {
   "cell_type": "code",
   "execution_count": 4,
   "metadata": {},
   "outputs": [],
   "source": [
    "pipe=Pipeline(steps)"
   ]
  },
  {
   "cell_type": "code",
   "execution_count": 5,
   "metadata": {},
   "outputs": [],
   "source": [
    "##visualize Pipeline\n",
    "from sklearn import set_config"
   ]
  },
  {
   "cell_type": "code",
   "execution_count": 6,
   "metadata": {},
   "outputs": [],
   "source": [
    "set_config(display=\"diagram\")"
   ]
  },
  {
   "cell_type": "code",
   "execution_count": 7,
   "metadata": {},
   "outputs": [
    {
     "data": {
      "text/html": [
       "<style>#sk-997e5d4f-861f-47b2-9c4a-c437db4550e1 {color: black;background-color: white;}#sk-997e5d4f-861f-47b2-9c4a-c437db4550e1 pre{padding: 0;}#sk-997e5d4f-861f-47b2-9c4a-c437db4550e1 div.sk-toggleable {background-color: white;}#sk-997e5d4f-861f-47b2-9c4a-c437db4550e1 label.sk-toggleable__label {cursor: pointer;display: block;width: 100%;margin-bottom: 0;padding: 0.3em;box-sizing: border-box;text-align: center;}#sk-997e5d4f-861f-47b2-9c4a-c437db4550e1 label.sk-toggleable__label-arrow:before {content: \"▸\";float: left;margin-right: 0.25em;color: #696969;}#sk-997e5d4f-861f-47b2-9c4a-c437db4550e1 label.sk-toggleable__label-arrow:hover:before {color: black;}#sk-997e5d4f-861f-47b2-9c4a-c437db4550e1 div.sk-estimator:hover label.sk-toggleable__label-arrow:before {color: black;}#sk-997e5d4f-861f-47b2-9c4a-c437db4550e1 div.sk-toggleable__content {max-height: 0;max-width: 0;overflow: hidden;text-align: left;background-color: #f0f8ff;}#sk-997e5d4f-861f-47b2-9c4a-c437db4550e1 div.sk-toggleable__content pre {margin: 0.2em;color: black;border-radius: 0.25em;background-color: #f0f8ff;}#sk-997e5d4f-861f-47b2-9c4a-c437db4550e1 input.sk-toggleable__control:checked~div.sk-toggleable__content {max-height: 200px;max-width: 100%;overflow: auto;}#sk-997e5d4f-861f-47b2-9c4a-c437db4550e1 input.sk-toggleable__control:checked~label.sk-toggleable__label-arrow:before {content: \"▾\";}#sk-997e5d4f-861f-47b2-9c4a-c437db4550e1 div.sk-estimator input.sk-toggleable__control:checked~label.sk-toggleable__label {background-color: #d4ebff;}#sk-997e5d4f-861f-47b2-9c4a-c437db4550e1 div.sk-label input.sk-toggleable__control:checked~label.sk-toggleable__label {background-color: #d4ebff;}#sk-997e5d4f-861f-47b2-9c4a-c437db4550e1 input.sk-hidden--visually {border: 0;clip: rect(1px 1px 1px 1px);clip: rect(1px, 1px, 1px, 1px);height: 1px;margin: -1px;overflow: hidden;padding: 0;position: absolute;width: 1px;}#sk-997e5d4f-861f-47b2-9c4a-c437db4550e1 div.sk-estimator {font-family: monospace;background-color: #f0f8ff;border: 1px dotted black;border-radius: 0.25em;box-sizing: border-box;margin-bottom: 0.5em;}#sk-997e5d4f-861f-47b2-9c4a-c437db4550e1 div.sk-estimator:hover {background-color: #d4ebff;}#sk-997e5d4f-861f-47b2-9c4a-c437db4550e1 div.sk-parallel-item::after {content: \"\";width: 100%;border-bottom: 1px solid gray;flex-grow: 1;}#sk-997e5d4f-861f-47b2-9c4a-c437db4550e1 div.sk-label:hover label.sk-toggleable__label {background-color: #d4ebff;}#sk-997e5d4f-861f-47b2-9c4a-c437db4550e1 div.sk-serial::before {content: \"\";position: absolute;border-left: 1px solid gray;box-sizing: border-box;top: 2em;bottom: 0;left: 50%;}#sk-997e5d4f-861f-47b2-9c4a-c437db4550e1 div.sk-serial {display: flex;flex-direction: column;align-items: center;background-color: white;padding-right: 0.2em;padding-left: 0.2em;}#sk-997e5d4f-861f-47b2-9c4a-c437db4550e1 div.sk-item {z-index: 1;}#sk-997e5d4f-861f-47b2-9c4a-c437db4550e1 div.sk-parallel {display: flex;align-items: stretch;justify-content: center;background-color: white;}#sk-997e5d4f-861f-47b2-9c4a-c437db4550e1 div.sk-parallel::before {content: \"\";position: absolute;border-left: 1px solid gray;box-sizing: border-box;top: 2em;bottom: 0;left: 50%;}#sk-997e5d4f-861f-47b2-9c4a-c437db4550e1 div.sk-parallel-item {display: flex;flex-direction: column;position: relative;background-color: white;}#sk-997e5d4f-861f-47b2-9c4a-c437db4550e1 div.sk-parallel-item:first-child::after {align-self: flex-end;width: 50%;}#sk-997e5d4f-861f-47b2-9c4a-c437db4550e1 div.sk-parallel-item:last-child::after {align-self: flex-start;width: 50%;}#sk-997e5d4f-861f-47b2-9c4a-c437db4550e1 div.sk-parallel-item:only-child::after {width: 0;}#sk-997e5d4f-861f-47b2-9c4a-c437db4550e1 div.sk-dashed-wrapped {border: 1px dashed gray;margin: 0 0.4em 0.5em 0.4em;box-sizing: border-box;padding-bottom: 0.4em;background-color: white;position: relative;}#sk-997e5d4f-861f-47b2-9c4a-c437db4550e1 div.sk-label label {font-family: monospace;font-weight: bold;background-color: white;display: inline-block;line-height: 1.2em;}#sk-997e5d4f-861f-47b2-9c4a-c437db4550e1 div.sk-label-container {position: relative;z-index: 2;text-align: center;}#sk-997e5d4f-861f-47b2-9c4a-c437db4550e1 div.sk-container {/* jupyter's `normalize.less` sets `[hidden] { display: none; }` but bootstrap.min.css set `[hidden] { display: none !important; }` so we also need the `!important` here to be able to override the default hidden behavior on the sphinx rendered scikit-learn.org. See: https://github.com/scikit-learn/scikit-learn/issues/21755 */display: inline-block !important;position: relative;}#sk-997e5d4f-861f-47b2-9c4a-c437db4550e1 div.sk-text-repr-fallback {display: none;}</style><div id=\"sk-997e5d4f-861f-47b2-9c4a-c437db4550e1\" class=\"sk-top-container\"><div class=\"sk-text-repr-fallback\"><pre>Pipeline(steps=[(&#x27;standard_scaler&#x27;, StandardScaler()),\n",
       "                (&#x27;classifier&#x27;, LogisticRegression())])</pre><b>Please rerun this cell to show the HTML repr or trust the notebook.</b></div><div class=\"sk-container\" hidden><div class=\"sk-item sk-dashed-wrapped\"><div class=\"sk-label-container\"><div class=\"sk-label sk-toggleable\"><input class=\"sk-toggleable__control sk-hidden--visually\" id=\"f5eb4a6f-776e-4097-b6f0-223807ee009a\" type=\"checkbox\" ><label for=\"f5eb4a6f-776e-4097-b6f0-223807ee009a\" class=\"sk-toggleable__label sk-toggleable__label-arrow\">Pipeline</label><div class=\"sk-toggleable__content\"><pre>Pipeline(steps=[(&#x27;standard_scaler&#x27;, StandardScaler()),\n",
       "                (&#x27;classifier&#x27;, LogisticRegression())])</pre></div></div></div><div class=\"sk-serial\"><div class=\"sk-item\"><div class=\"sk-estimator sk-toggleable\"><input class=\"sk-toggleable__control sk-hidden--visually\" id=\"1f8331b7-79b8-4d4c-917b-0598b06788b0\" type=\"checkbox\" ><label for=\"1f8331b7-79b8-4d4c-917b-0598b06788b0\" class=\"sk-toggleable__label sk-toggleable__label-arrow\">StandardScaler</label><div class=\"sk-toggleable__content\"><pre>StandardScaler()</pre></div></div></div><div class=\"sk-item\"><div class=\"sk-estimator sk-toggleable\"><input class=\"sk-toggleable__control sk-hidden--visually\" id=\"b4e455e8-0fe1-4835-94d5-782e9ed7dbb1\" type=\"checkbox\" ><label for=\"b4e455e8-0fe1-4835-94d5-782e9ed7dbb1\" class=\"sk-toggleable__label sk-toggleable__label-arrow\">LogisticRegression</label><div class=\"sk-toggleable__content\"><pre>LogisticRegression()</pre></div></div></div></div></div></div></div>"
      ],
      "text/plain": [
       "Pipeline(steps=[('standard_scaler', StandardScaler()),\n",
       "                ('classifier', LogisticRegression())])"
      ]
     },
     "execution_count": 7,
     "metadata": {},
     "output_type": "execute_result"
    }
   ],
   "source": [
    "pipe"
   ]
  },
  {
   "cell_type": "code",
   "execution_count": 8,
   "metadata": {},
   "outputs": [],
   "source": [
    "##creating a dataset\n",
    "from sklearn.datasets import make_classification\n",
    "X,y=make_classification(n_samples=1000)"
   ]
  },
  {
   "cell_type": "code",
   "execution_count": 9,
   "metadata": {},
   "outputs": [
    {
     "data": {
      "text/plain": [
       "(1000, 20)"
      ]
     },
     "execution_count": 9,
     "metadata": {},
     "output_type": "execute_result"
    }
   ],
   "source": [
    "X.shape"
   ]
  },
  {
   "cell_type": "code",
   "execution_count": 10,
   "metadata": {},
   "outputs": [],
   "source": [
    "from sklearn.model_selection import train_test_split\n",
    "X_train, X_test, y_train, y_test = train_test_split(\n",
    "    X, y, test_size=0.33, random_state=42)"
   ]
  },
  {
   "cell_type": "code",
   "execution_count": 11,
   "metadata": {},
   "outputs": [
    {
     "data": {
      "text/plain": [
       "array([[ 0.27870781,  1.51325307,  0.74051492, ..., -1.61616003,\n",
       "         0.25480919, -1.31698528],\n",
       "       [-0.91742321,  0.5545707 ,  1.90203574, ..., -0.46159314,\n",
       "         0.27467958,  0.8871091 ],\n",
       "       [ 1.2151889 ,  1.95382799,  0.37023099, ..., -1.33974306,\n",
       "        -1.20211505,  1.1657257 ],\n",
       "       ...,\n",
       "       [ 0.38476663,  0.4599587 ,  0.69365375, ..., -0.13969185,\n",
       "         0.43476881,  0.88631709],\n",
       "       [ 0.34244154,  0.10582637,  1.50212716, ...,  0.63524919,\n",
       "        -0.47026657, -0.26951381],\n",
       "       [-0.12969723, -0.12667668,  1.59160782, ...,  0.14425178,\n",
       "        -0.83392301,  0.33579875]])"
      ]
     },
     "execution_count": 11,
     "metadata": {},
     "output_type": "execute_result"
    }
   ],
   "source": [
    "X_train"
   ]
  },
  {
   "cell_type": "code",
   "execution_count": 12,
   "metadata": {},
   "outputs": [
    {
     "data": {
      "text/html": [
       "<style>#sk-869354d5-a42e-45db-8d34-e90c7893ec8c {color: black;background-color: white;}#sk-869354d5-a42e-45db-8d34-e90c7893ec8c pre{padding: 0;}#sk-869354d5-a42e-45db-8d34-e90c7893ec8c div.sk-toggleable {background-color: white;}#sk-869354d5-a42e-45db-8d34-e90c7893ec8c label.sk-toggleable__label {cursor: pointer;display: block;width: 100%;margin-bottom: 0;padding: 0.3em;box-sizing: border-box;text-align: center;}#sk-869354d5-a42e-45db-8d34-e90c7893ec8c label.sk-toggleable__label-arrow:before {content: \"▸\";float: left;margin-right: 0.25em;color: #696969;}#sk-869354d5-a42e-45db-8d34-e90c7893ec8c label.sk-toggleable__label-arrow:hover:before {color: black;}#sk-869354d5-a42e-45db-8d34-e90c7893ec8c div.sk-estimator:hover label.sk-toggleable__label-arrow:before {color: black;}#sk-869354d5-a42e-45db-8d34-e90c7893ec8c div.sk-toggleable__content {max-height: 0;max-width: 0;overflow: hidden;text-align: left;background-color: #f0f8ff;}#sk-869354d5-a42e-45db-8d34-e90c7893ec8c div.sk-toggleable__content pre {margin: 0.2em;color: black;border-radius: 0.25em;background-color: #f0f8ff;}#sk-869354d5-a42e-45db-8d34-e90c7893ec8c input.sk-toggleable__control:checked~div.sk-toggleable__content {max-height: 200px;max-width: 100%;overflow: auto;}#sk-869354d5-a42e-45db-8d34-e90c7893ec8c input.sk-toggleable__control:checked~label.sk-toggleable__label-arrow:before {content: \"▾\";}#sk-869354d5-a42e-45db-8d34-e90c7893ec8c div.sk-estimator input.sk-toggleable__control:checked~label.sk-toggleable__label {background-color: #d4ebff;}#sk-869354d5-a42e-45db-8d34-e90c7893ec8c div.sk-label input.sk-toggleable__control:checked~label.sk-toggleable__label {background-color: #d4ebff;}#sk-869354d5-a42e-45db-8d34-e90c7893ec8c input.sk-hidden--visually {border: 0;clip: rect(1px 1px 1px 1px);clip: rect(1px, 1px, 1px, 1px);height: 1px;margin: -1px;overflow: hidden;padding: 0;position: absolute;width: 1px;}#sk-869354d5-a42e-45db-8d34-e90c7893ec8c div.sk-estimator {font-family: monospace;background-color: #f0f8ff;border: 1px dotted black;border-radius: 0.25em;box-sizing: border-box;margin-bottom: 0.5em;}#sk-869354d5-a42e-45db-8d34-e90c7893ec8c div.sk-estimator:hover {background-color: #d4ebff;}#sk-869354d5-a42e-45db-8d34-e90c7893ec8c div.sk-parallel-item::after {content: \"\";width: 100%;border-bottom: 1px solid gray;flex-grow: 1;}#sk-869354d5-a42e-45db-8d34-e90c7893ec8c div.sk-label:hover label.sk-toggleable__label {background-color: #d4ebff;}#sk-869354d5-a42e-45db-8d34-e90c7893ec8c div.sk-serial::before {content: \"\";position: absolute;border-left: 1px solid gray;box-sizing: border-box;top: 2em;bottom: 0;left: 50%;}#sk-869354d5-a42e-45db-8d34-e90c7893ec8c div.sk-serial {display: flex;flex-direction: column;align-items: center;background-color: white;padding-right: 0.2em;padding-left: 0.2em;}#sk-869354d5-a42e-45db-8d34-e90c7893ec8c div.sk-item {z-index: 1;}#sk-869354d5-a42e-45db-8d34-e90c7893ec8c div.sk-parallel {display: flex;align-items: stretch;justify-content: center;background-color: white;}#sk-869354d5-a42e-45db-8d34-e90c7893ec8c div.sk-parallel::before {content: \"\";position: absolute;border-left: 1px solid gray;box-sizing: border-box;top: 2em;bottom: 0;left: 50%;}#sk-869354d5-a42e-45db-8d34-e90c7893ec8c div.sk-parallel-item {display: flex;flex-direction: column;position: relative;background-color: white;}#sk-869354d5-a42e-45db-8d34-e90c7893ec8c div.sk-parallel-item:first-child::after {align-self: flex-end;width: 50%;}#sk-869354d5-a42e-45db-8d34-e90c7893ec8c div.sk-parallel-item:last-child::after {align-self: flex-start;width: 50%;}#sk-869354d5-a42e-45db-8d34-e90c7893ec8c div.sk-parallel-item:only-child::after {width: 0;}#sk-869354d5-a42e-45db-8d34-e90c7893ec8c div.sk-dashed-wrapped {border: 1px dashed gray;margin: 0 0.4em 0.5em 0.4em;box-sizing: border-box;padding-bottom: 0.4em;background-color: white;position: relative;}#sk-869354d5-a42e-45db-8d34-e90c7893ec8c div.sk-label label {font-family: monospace;font-weight: bold;background-color: white;display: inline-block;line-height: 1.2em;}#sk-869354d5-a42e-45db-8d34-e90c7893ec8c div.sk-label-container {position: relative;z-index: 2;text-align: center;}#sk-869354d5-a42e-45db-8d34-e90c7893ec8c div.sk-container {/* jupyter's `normalize.less` sets `[hidden] { display: none; }` but bootstrap.min.css set `[hidden] { display: none !important; }` so we also need the `!important` here to be able to override the default hidden behavior on the sphinx rendered scikit-learn.org. See: https://github.com/scikit-learn/scikit-learn/issues/21755 */display: inline-block !important;position: relative;}#sk-869354d5-a42e-45db-8d34-e90c7893ec8c div.sk-text-repr-fallback {display: none;}</style><div id=\"sk-869354d5-a42e-45db-8d34-e90c7893ec8c\" class=\"sk-top-container\"><div class=\"sk-text-repr-fallback\"><pre>Pipeline(steps=[(&#x27;standard_scaler&#x27;, StandardScaler()),\n",
       "                (&#x27;classifier&#x27;, LogisticRegression())])</pre><b>Please rerun this cell to show the HTML repr or trust the notebook.</b></div><div class=\"sk-container\" hidden><div class=\"sk-item sk-dashed-wrapped\"><div class=\"sk-label-container\"><div class=\"sk-label sk-toggleable\"><input class=\"sk-toggleable__control sk-hidden--visually\" id=\"e3f72872-7464-4b61-b15c-a3968ad35570\" type=\"checkbox\" ><label for=\"e3f72872-7464-4b61-b15c-a3968ad35570\" class=\"sk-toggleable__label sk-toggleable__label-arrow\">Pipeline</label><div class=\"sk-toggleable__content\"><pre>Pipeline(steps=[(&#x27;standard_scaler&#x27;, StandardScaler()),\n",
       "                (&#x27;classifier&#x27;, LogisticRegression())])</pre></div></div></div><div class=\"sk-serial\"><div class=\"sk-item\"><div class=\"sk-estimator sk-toggleable\"><input class=\"sk-toggleable__control sk-hidden--visually\" id=\"7d47c79b-e8ef-4f10-bff6-a262431b82bf\" type=\"checkbox\" ><label for=\"7d47c79b-e8ef-4f10-bff6-a262431b82bf\" class=\"sk-toggleable__label sk-toggleable__label-arrow\">StandardScaler</label><div class=\"sk-toggleable__content\"><pre>StandardScaler()</pre></div></div></div><div class=\"sk-item\"><div class=\"sk-estimator sk-toggleable\"><input class=\"sk-toggleable__control sk-hidden--visually\" id=\"09f50631-99b7-45f2-8d4f-b0f5655f09b3\" type=\"checkbox\" ><label for=\"09f50631-99b7-45f2-8d4f-b0f5655f09b3\" class=\"sk-toggleable__label sk-toggleable__label-arrow\">LogisticRegression</label><div class=\"sk-toggleable__content\"><pre>LogisticRegression()</pre></div></div></div></div></div></div></div>"
      ],
      "text/plain": [
       "Pipeline(steps=[('standard_scaler', StandardScaler()),\n",
       "                ('classifier', LogisticRegression())])"
      ]
     },
     "execution_count": 12,
     "metadata": {},
     "output_type": "execute_result"
    }
   ],
   "source": [
    "pipe.fit(X_train,y_train)"
   ]
  },
  {
   "cell_type": "code",
   "execution_count": 13,
   "metadata": {},
   "outputs": [],
   "source": [
    "y_pred=pipe.predict(X_test)"
   ]
  },
  {
   "cell_type": "code",
   "execution_count": 14,
   "metadata": {},
   "outputs": [
    {
     "data": {
      "text/plain": [
       "array([1, 1, 1, 1, 0, 1, 1, 0, 0, 1, 1, 0, 0, 0, 1, 1, 1, 0, 0, 1, 0, 0,\n",
       "       0, 1, 0, 0, 1, 1, 1, 0, 0, 0, 1, 0, 0, 1, 1, 1, 0, 1, 0, 1, 1, 1,\n",
       "       1, 1, 0, 0, 1, 0, 0, 1, 0, 1, 1, 0, 1, 1, 0, 0, 0, 1, 0, 0, 0, 0,\n",
       "       0, 1, 1, 0, 0, 0, 1, 1, 0, 1, 1, 1, 1, 1, 0, 0, 0, 1, 1, 0, 0, 0,\n",
       "       1, 1, 0, 1, 1, 0, 1, 1, 1, 1, 0, 1, 1, 0, 1, 0, 0, 0, 0, 1, 0, 1,\n",
       "       1, 1, 0, 1, 1, 1, 0, 1, 1, 0, 1, 0, 1, 0, 0, 0, 0, 1, 1, 0, 1, 0,\n",
       "       0, 1, 1, 1, 0, 1, 0, 1, 1, 1, 1, 0, 0, 0, 0, 0, 1, 0, 1, 0, 1, 0,\n",
       "       1, 0, 1, 0, 0, 0, 0, 0, 1, 0, 1, 1, 0, 0, 1, 0, 0, 1, 0, 1, 1, 0,\n",
       "       0, 1, 1, 1, 1, 1, 0, 0, 1, 1, 0, 0, 0, 1, 1, 1, 1, 0, 1, 0, 0, 0,\n",
       "       1, 1, 0, 0, 0, 1, 0, 1, 1, 1, 1, 0, 0, 1, 0, 0, 0, 1, 1, 1, 1, 1,\n",
       "       1, 1, 0, 1, 1, 1, 0, 1, 1, 0, 1, 1, 1, 1, 1, 0, 0, 1, 1, 1, 0, 0,\n",
       "       1, 1, 0, 0, 1, 1, 0, 0, 0, 0, 1, 0, 1, 0, 0, 1, 1, 1, 1, 0, 0, 1,\n",
       "       1, 0, 1, 0, 0, 1, 1, 1, 1, 0, 0, 0, 0, 0, 1, 1, 0, 0, 0, 0, 0, 1,\n",
       "       0, 1, 1, 0, 1, 0, 1, 1, 1, 0, 0, 0, 0, 1, 1, 0, 1, 0, 0, 1, 0, 1,\n",
       "       1, 0, 1, 0, 0, 0, 0, 0, 1, 1, 0, 1, 1, 0, 0, 0, 0, 0, 0, 0, 0, 0])"
      ]
     },
     "execution_count": 14,
     "metadata": {},
     "output_type": "execute_result"
    }
   ],
   "source": [
    "y_pred"
   ]
  },
  {
   "cell_type": "markdown",
   "metadata": {},
   "source": [
    "## Example 2\n",
    "Displaying a pipeline with standard scaler, dimesnionality reduction and then estimator"
   ]
  },
  {
   "cell_type": "code",
   "execution_count": 15,
   "metadata": {},
   "outputs": [],
   "source": [
    "from sklearn.decomposition import PCA\n",
    "from sklearn.svm import SVC"
   ]
  },
  {
   "cell_type": "code",
   "execution_count": 16,
   "metadata": {},
   "outputs": [],
   "source": [
    "steps=[(\"scaling\",StandardScaler()),\n",
    "      (\"PCA\",PCA(n_components=3)),\n",
    "      (\"SVC\",SVC())]"
   ]
  },
  {
   "cell_type": "code",
   "execution_count": 17,
   "metadata": {},
   "outputs": [],
   "source": [
    "pipe2=Pipeline(steps)"
   ]
  },
  {
   "cell_type": "code",
   "execution_count": 18,
   "metadata": {},
   "outputs": [
    {
     "data": {
      "text/html": [
       "<style>#sk-35fdbc6e-d96b-49c6-b50a-62180267dfb2 {color: black;background-color: white;}#sk-35fdbc6e-d96b-49c6-b50a-62180267dfb2 pre{padding: 0;}#sk-35fdbc6e-d96b-49c6-b50a-62180267dfb2 div.sk-toggleable {background-color: white;}#sk-35fdbc6e-d96b-49c6-b50a-62180267dfb2 label.sk-toggleable__label {cursor: pointer;display: block;width: 100%;margin-bottom: 0;padding: 0.3em;box-sizing: border-box;text-align: center;}#sk-35fdbc6e-d96b-49c6-b50a-62180267dfb2 label.sk-toggleable__label-arrow:before {content: \"▸\";float: left;margin-right: 0.25em;color: #696969;}#sk-35fdbc6e-d96b-49c6-b50a-62180267dfb2 label.sk-toggleable__label-arrow:hover:before {color: black;}#sk-35fdbc6e-d96b-49c6-b50a-62180267dfb2 div.sk-estimator:hover label.sk-toggleable__label-arrow:before {color: black;}#sk-35fdbc6e-d96b-49c6-b50a-62180267dfb2 div.sk-toggleable__content {max-height: 0;max-width: 0;overflow: hidden;text-align: left;background-color: #f0f8ff;}#sk-35fdbc6e-d96b-49c6-b50a-62180267dfb2 div.sk-toggleable__content pre {margin: 0.2em;color: black;border-radius: 0.25em;background-color: #f0f8ff;}#sk-35fdbc6e-d96b-49c6-b50a-62180267dfb2 input.sk-toggleable__control:checked~div.sk-toggleable__content {max-height: 200px;max-width: 100%;overflow: auto;}#sk-35fdbc6e-d96b-49c6-b50a-62180267dfb2 input.sk-toggleable__control:checked~label.sk-toggleable__label-arrow:before {content: \"▾\";}#sk-35fdbc6e-d96b-49c6-b50a-62180267dfb2 div.sk-estimator input.sk-toggleable__control:checked~label.sk-toggleable__label {background-color: #d4ebff;}#sk-35fdbc6e-d96b-49c6-b50a-62180267dfb2 div.sk-label input.sk-toggleable__control:checked~label.sk-toggleable__label {background-color: #d4ebff;}#sk-35fdbc6e-d96b-49c6-b50a-62180267dfb2 input.sk-hidden--visually {border: 0;clip: rect(1px 1px 1px 1px);clip: rect(1px, 1px, 1px, 1px);height: 1px;margin: -1px;overflow: hidden;padding: 0;position: absolute;width: 1px;}#sk-35fdbc6e-d96b-49c6-b50a-62180267dfb2 div.sk-estimator {font-family: monospace;background-color: #f0f8ff;border: 1px dotted black;border-radius: 0.25em;box-sizing: border-box;margin-bottom: 0.5em;}#sk-35fdbc6e-d96b-49c6-b50a-62180267dfb2 div.sk-estimator:hover {background-color: #d4ebff;}#sk-35fdbc6e-d96b-49c6-b50a-62180267dfb2 div.sk-parallel-item::after {content: \"\";width: 100%;border-bottom: 1px solid gray;flex-grow: 1;}#sk-35fdbc6e-d96b-49c6-b50a-62180267dfb2 div.sk-label:hover label.sk-toggleable__label {background-color: #d4ebff;}#sk-35fdbc6e-d96b-49c6-b50a-62180267dfb2 div.sk-serial::before {content: \"\";position: absolute;border-left: 1px solid gray;box-sizing: border-box;top: 2em;bottom: 0;left: 50%;}#sk-35fdbc6e-d96b-49c6-b50a-62180267dfb2 div.sk-serial {display: flex;flex-direction: column;align-items: center;background-color: white;padding-right: 0.2em;padding-left: 0.2em;}#sk-35fdbc6e-d96b-49c6-b50a-62180267dfb2 div.sk-item {z-index: 1;}#sk-35fdbc6e-d96b-49c6-b50a-62180267dfb2 div.sk-parallel {display: flex;align-items: stretch;justify-content: center;background-color: white;}#sk-35fdbc6e-d96b-49c6-b50a-62180267dfb2 div.sk-parallel::before {content: \"\";position: absolute;border-left: 1px solid gray;box-sizing: border-box;top: 2em;bottom: 0;left: 50%;}#sk-35fdbc6e-d96b-49c6-b50a-62180267dfb2 div.sk-parallel-item {display: flex;flex-direction: column;position: relative;background-color: white;}#sk-35fdbc6e-d96b-49c6-b50a-62180267dfb2 div.sk-parallel-item:first-child::after {align-self: flex-end;width: 50%;}#sk-35fdbc6e-d96b-49c6-b50a-62180267dfb2 div.sk-parallel-item:last-child::after {align-self: flex-start;width: 50%;}#sk-35fdbc6e-d96b-49c6-b50a-62180267dfb2 div.sk-parallel-item:only-child::after {width: 0;}#sk-35fdbc6e-d96b-49c6-b50a-62180267dfb2 div.sk-dashed-wrapped {border: 1px dashed gray;margin: 0 0.4em 0.5em 0.4em;box-sizing: border-box;padding-bottom: 0.4em;background-color: white;position: relative;}#sk-35fdbc6e-d96b-49c6-b50a-62180267dfb2 div.sk-label label {font-family: monospace;font-weight: bold;background-color: white;display: inline-block;line-height: 1.2em;}#sk-35fdbc6e-d96b-49c6-b50a-62180267dfb2 div.sk-label-container {position: relative;z-index: 2;text-align: center;}#sk-35fdbc6e-d96b-49c6-b50a-62180267dfb2 div.sk-container {/* jupyter's `normalize.less` sets `[hidden] { display: none; }` but bootstrap.min.css set `[hidden] { display: none !important; }` so we also need the `!important` here to be able to override the default hidden behavior on the sphinx rendered scikit-learn.org. See: https://github.com/scikit-learn/scikit-learn/issues/21755 */display: inline-block !important;position: relative;}#sk-35fdbc6e-d96b-49c6-b50a-62180267dfb2 div.sk-text-repr-fallback {display: none;}</style><div id=\"sk-35fdbc6e-d96b-49c6-b50a-62180267dfb2\" class=\"sk-top-container\"><div class=\"sk-text-repr-fallback\"><pre>Pipeline(steps=[(&#x27;scaling&#x27;, StandardScaler()), (&#x27;PCA&#x27;, PCA(n_components=3)),\n",
       "                (&#x27;SVC&#x27;, SVC())])</pre><b>Please rerun this cell to show the HTML repr or trust the notebook.</b></div><div class=\"sk-container\" hidden><div class=\"sk-item sk-dashed-wrapped\"><div class=\"sk-label-container\"><div class=\"sk-label sk-toggleable\"><input class=\"sk-toggleable__control sk-hidden--visually\" id=\"2d66c025-c9be-45e2-bf64-337d3ef61238\" type=\"checkbox\" ><label for=\"2d66c025-c9be-45e2-bf64-337d3ef61238\" class=\"sk-toggleable__label sk-toggleable__label-arrow\">Pipeline</label><div class=\"sk-toggleable__content\"><pre>Pipeline(steps=[(&#x27;scaling&#x27;, StandardScaler()), (&#x27;PCA&#x27;, PCA(n_components=3)),\n",
       "                (&#x27;SVC&#x27;, SVC())])</pre></div></div></div><div class=\"sk-serial\"><div class=\"sk-item\"><div class=\"sk-estimator sk-toggleable\"><input class=\"sk-toggleable__control sk-hidden--visually\" id=\"6fda170f-bcdb-451e-94af-c8eb6cfcd3e1\" type=\"checkbox\" ><label for=\"6fda170f-bcdb-451e-94af-c8eb6cfcd3e1\" class=\"sk-toggleable__label sk-toggleable__label-arrow\">StandardScaler</label><div class=\"sk-toggleable__content\"><pre>StandardScaler()</pre></div></div></div><div class=\"sk-item\"><div class=\"sk-estimator sk-toggleable\"><input class=\"sk-toggleable__control sk-hidden--visually\" id=\"9a66a1fb-75c0-46e5-9b56-d1685e531087\" type=\"checkbox\" ><label for=\"9a66a1fb-75c0-46e5-9b56-d1685e531087\" class=\"sk-toggleable__label sk-toggleable__label-arrow\">PCA</label><div class=\"sk-toggleable__content\"><pre>PCA(n_components=3)</pre></div></div></div><div class=\"sk-item\"><div class=\"sk-estimator sk-toggleable\"><input class=\"sk-toggleable__control sk-hidden--visually\" id=\"a4cab3a7-1f79-458a-96b5-a34dd3bf85b6\" type=\"checkbox\" ><label for=\"a4cab3a7-1f79-458a-96b5-a34dd3bf85b6\" class=\"sk-toggleable__label sk-toggleable__label-arrow\">SVC</label><div class=\"sk-toggleable__content\"><pre>SVC()</pre></div></div></div></div></div></div></div>"
      ],
      "text/plain": [
       "Pipeline(steps=[('scaling', StandardScaler()), ('PCA', PCA(n_components=3)),\n",
       "                ('SVC', SVC())])"
      ]
     },
     "execution_count": 18,
     "metadata": {},
     "output_type": "execute_result"
    }
   ],
   "source": [
    "pipe2"
   ]
  },
  {
   "cell_type": "code",
   "execution_count": 19,
   "metadata": {},
   "outputs": [
    {
     "data": {
      "text/html": [
       "<style>#sk-c7ebc43b-3322-421a-abdd-2a03b68528cc {color: black;background-color: white;}#sk-c7ebc43b-3322-421a-abdd-2a03b68528cc pre{padding: 0;}#sk-c7ebc43b-3322-421a-abdd-2a03b68528cc div.sk-toggleable {background-color: white;}#sk-c7ebc43b-3322-421a-abdd-2a03b68528cc label.sk-toggleable__label {cursor: pointer;display: block;width: 100%;margin-bottom: 0;padding: 0.3em;box-sizing: border-box;text-align: center;}#sk-c7ebc43b-3322-421a-abdd-2a03b68528cc label.sk-toggleable__label-arrow:before {content: \"▸\";float: left;margin-right: 0.25em;color: #696969;}#sk-c7ebc43b-3322-421a-abdd-2a03b68528cc label.sk-toggleable__label-arrow:hover:before {color: black;}#sk-c7ebc43b-3322-421a-abdd-2a03b68528cc div.sk-estimator:hover label.sk-toggleable__label-arrow:before {color: black;}#sk-c7ebc43b-3322-421a-abdd-2a03b68528cc div.sk-toggleable__content {max-height: 0;max-width: 0;overflow: hidden;text-align: left;background-color: #f0f8ff;}#sk-c7ebc43b-3322-421a-abdd-2a03b68528cc div.sk-toggleable__content pre {margin: 0.2em;color: black;border-radius: 0.25em;background-color: #f0f8ff;}#sk-c7ebc43b-3322-421a-abdd-2a03b68528cc input.sk-toggleable__control:checked~div.sk-toggleable__content {max-height: 200px;max-width: 100%;overflow: auto;}#sk-c7ebc43b-3322-421a-abdd-2a03b68528cc input.sk-toggleable__control:checked~label.sk-toggleable__label-arrow:before {content: \"▾\";}#sk-c7ebc43b-3322-421a-abdd-2a03b68528cc div.sk-estimator input.sk-toggleable__control:checked~label.sk-toggleable__label {background-color: #d4ebff;}#sk-c7ebc43b-3322-421a-abdd-2a03b68528cc div.sk-label input.sk-toggleable__control:checked~label.sk-toggleable__label {background-color: #d4ebff;}#sk-c7ebc43b-3322-421a-abdd-2a03b68528cc input.sk-hidden--visually {border: 0;clip: rect(1px 1px 1px 1px);clip: rect(1px, 1px, 1px, 1px);height: 1px;margin: -1px;overflow: hidden;padding: 0;position: absolute;width: 1px;}#sk-c7ebc43b-3322-421a-abdd-2a03b68528cc div.sk-estimator {font-family: monospace;background-color: #f0f8ff;border: 1px dotted black;border-radius: 0.25em;box-sizing: border-box;margin-bottom: 0.5em;}#sk-c7ebc43b-3322-421a-abdd-2a03b68528cc div.sk-estimator:hover {background-color: #d4ebff;}#sk-c7ebc43b-3322-421a-abdd-2a03b68528cc div.sk-parallel-item::after {content: \"\";width: 100%;border-bottom: 1px solid gray;flex-grow: 1;}#sk-c7ebc43b-3322-421a-abdd-2a03b68528cc div.sk-label:hover label.sk-toggleable__label {background-color: #d4ebff;}#sk-c7ebc43b-3322-421a-abdd-2a03b68528cc div.sk-serial::before {content: \"\";position: absolute;border-left: 1px solid gray;box-sizing: border-box;top: 2em;bottom: 0;left: 50%;}#sk-c7ebc43b-3322-421a-abdd-2a03b68528cc div.sk-serial {display: flex;flex-direction: column;align-items: center;background-color: white;padding-right: 0.2em;padding-left: 0.2em;}#sk-c7ebc43b-3322-421a-abdd-2a03b68528cc div.sk-item {z-index: 1;}#sk-c7ebc43b-3322-421a-abdd-2a03b68528cc div.sk-parallel {display: flex;align-items: stretch;justify-content: center;background-color: white;}#sk-c7ebc43b-3322-421a-abdd-2a03b68528cc div.sk-parallel::before {content: \"\";position: absolute;border-left: 1px solid gray;box-sizing: border-box;top: 2em;bottom: 0;left: 50%;}#sk-c7ebc43b-3322-421a-abdd-2a03b68528cc div.sk-parallel-item {display: flex;flex-direction: column;position: relative;background-color: white;}#sk-c7ebc43b-3322-421a-abdd-2a03b68528cc div.sk-parallel-item:first-child::after {align-self: flex-end;width: 50%;}#sk-c7ebc43b-3322-421a-abdd-2a03b68528cc div.sk-parallel-item:last-child::after {align-self: flex-start;width: 50%;}#sk-c7ebc43b-3322-421a-abdd-2a03b68528cc div.sk-parallel-item:only-child::after {width: 0;}#sk-c7ebc43b-3322-421a-abdd-2a03b68528cc div.sk-dashed-wrapped {border: 1px dashed gray;margin: 0 0.4em 0.5em 0.4em;box-sizing: border-box;padding-bottom: 0.4em;background-color: white;position: relative;}#sk-c7ebc43b-3322-421a-abdd-2a03b68528cc div.sk-label label {font-family: monospace;font-weight: bold;background-color: white;display: inline-block;line-height: 1.2em;}#sk-c7ebc43b-3322-421a-abdd-2a03b68528cc div.sk-label-container {position: relative;z-index: 2;text-align: center;}#sk-c7ebc43b-3322-421a-abdd-2a03b68528cc div.sk-container {/* jupyter's `normalize.less` sets `[hidden] { display: none; }` but bootstrap.min.css set `[hidden] { display: none !important; }` so we also need the `!important` here to be able to override the default hidden behavior on the sphinx rendered scikit-learn.org. See: https://github.com/scikit-learn/scikit-learn/issues/21755 */display: inline-block !important;position: relative;}#sk-c7ebc43b-3322-421a-abdd-2a03b68528cc div.sk-text-repr-fallback {display: none;}</style><div id=\"sk-c7ebc43b-3322-421a-abdd-2a03b68528cc\" class=\"sk-top-container\"><div class=\"sk-text-repr-fallback\"><pre>Pipeline(steps=[(&#x27;scaling&#x27;, StandardScaler()), (&#x27;PCA&#x27;, PCA(n_components=3)),\n",
       "                (&#x27;SVC&#x27;, SVC())])</pre><b>Please rerun this cell to show the HTML repr or trust the notebook.</b></div><div class=\"sk-container\" hidden><div class=\"sk-item sk-dashed-wrapped\"><div class=\"sk-label-container\"><div class=\"sk-label sk-toggleable\"><input class=\"sk-toggleable__control sk-hidden--visually\" id=\"0112ea84-5eda-421c-b965-fa6b8243d51b\" type=\"checkbox\" ><label for=\"0112ea84-5eda-421c-b965-fa6b8243d51b\" class=\"sk-toggleable__label sk-toggleable__label-arrow\">Pipeline</label><div class=\"sk-toggleable__content\"><pre>Pipeline(steps=[(&#x27;scaling&#x27;, StandardScaler()), (&#x27;PCA&#x27;, PCA(n_components=3)),\n",
       "                (&#x27;SVC&#x27;, SVC())])</pre></div></div></div><div class=\"sk-serial\"><div class=\"sk-item\"><div class=\"sk-estimator sk-toggleable\"><input class=\"sk-toggleable__control sk-hidden--visually\" id=\"77fa9794-646e-4e0a-8953-af90dc6d77ca\" type=\"checkbox\" ><label for=\"77fa9794-646e-4e0a-8953-af90dc6d77ca\" class=\"sk-toggleable__label sk-toggleable__label-arrow\">StandardScaler</label><div class=\"sk-toggleable__content\"><pre>StandardScaler()</pre></div></div></div><div class=\"sk-item\"><div class=\"sk-estimator sk-toggleable\"><input class=\"sk-toggleable__control sk-hidden--visually\" id=\"3f116ccc-1849-4a34-a775-0fe91845b469\" type=\"checkbox\" ><label for=\"3f116ccc-1849-4a34-a775-0fe91845b469\" class=\"sk-toggleable__label sk-toggleable__label-arrow\">PCA</label><div class=\"sk-toggleable__content\"><pre>PCA(n_components=3)</pre></div></div></div><div class=\"sk-item\"><div class=\"sk-estimator sk-toggleable\"><input class=\"sk-toggleable__control sk-hidden--visually\" id=\"5cd49849-0582-42d3-a038-b1235509028f\" type=\"checkbox\" ><label for=\"5cd49849-0582-42d3-a038-b1235509028f\" class=\"sk-toggleable__label sk-toggleable__label-arrow\">SVC</label><div class=\"sk-toggleable__content\"><pre>SVC()</pre></div></div></div></div></div></div></div>"
      ],
      "text/plain": [
       "Pipeline(steps=[('scaling', StandardScaler()), ('PCA', PCA(n_components=3)),\n",
       "                ('SVC', SVC())])"
      ]
     },
     "execution_count": 19,
     "metadata": {},
     "output_type": "execute_result"
    }
   ],
   "source": [
    "pipe2.fit(X_train,y_train)"
   ]
  },
  {
   "cell_type": "code",
   "execution_count": 20,
   "metadata": {},
   "outputs": [
    {
     "data": {
      "text/plain": [
       "array([1, 1, 1, 1, 0, 0, 1, 0, 1, 0, 1, 0, 0, 0, 0, 0, 1, 0, 0, 1, 0, 0,\n",
       "       1, 1, 1, 0, 0, 1, 1, 0, 0, 0, 1, 0, 0, 1, 1, 1, 1, 1, 0, 1, 1, 1,\n",
       "       1, 1, 0, 1, 1, 1, 1, 0, 0, 0, 1, 0, 1, 1, 0, 1, 0, 0, 0, 0, 0, 1,\n",
       "       0, 0, 1, 0, 1, 1, 1, 1, 0, 0, 0, 0, 1, 1, 0, 0, 0, 1, 1, 0, 0, 0,\n",
       "       1, 1, 0, 1, 0, 0, 1, 1, 1, 0, 0, 1, 0, 0, 1, 1, 0, 1, 0, 0, 1, 1,\n",
       "       1, 1, 0, 1, 1, 1, 0, 1, 1, 0, 1, 0, 1, 1, 0, 1, 0, 1, 0, 0, 0, 0,\n",
       "       0, 1, 1, 0, 1, 1, 0, 0, 0, 0, 1, 0, 1, 0, 0, 0, 1, 1, 0, 0, 1, 0,\n",
       "       1, 1, 1, 1, 0, 0, 0, 1, 1, 0, 0, 1, 0, 0, 1, 1, 0, 1, 0, 1, 0, 1,\n",
       "       0, 1, 0, 0, 1, 1, 0, 0, 1, 0, 0, 1, 0, 0, 1, 0, 1, 0, 1, 1, 0, 1,\n",
       "       1, 1, 0, 0, 1, 1, 0, 1, 1, 0, 1, 0, 0, 1, 0, 0, 0, 1, 0, 1, 0, 1,\n",
       "       1, 1, 0, 0, 1, 1, 0, 1, 1, 0, 1, 1, 1, 0, 1, 0, 0, 1, 1, 0, 0, 0,\n",
       "       1, 1, 0, 0, 1, 1, 1, 1, 0, 0, 1, 0, 1, 0, 0, 1, 1, 1, 1, 0, 0, 1,\n",
       "       1, 0, 1, 0, 1, 1, 1, 1, 1, 1, 1, 1, 0, 0, 0, 0, 0, 0, 0, 1, 0, 1,\n",
       "       0, 1, 1, 0, 0, 0, 1, 1, 1, 1, 0, 1, 0, 1, 0, 0, 1, 0, 0, 1, 0, 1,\n",
       "       0, 1, 1, 1, 0, 1, 0, 0, 0, 1, 0, 0, 1, 0, 0, 0, 0, 0, 0, 1, 0, 0])"
      ]
     },
     "execution_count": 20,
     "metadata": {},
     "output_type": "execute_result"
    }
   ],
   "source": [
    "pipe2.predict(X_test)"
   ]
  },
  {
   "cell_type": "markdown",
   "metadata": {},
   "source": [
    "## Complex examples of columns transformer"
   ]
  },
  {
   "cell_type": "code",
   "execution_count": 21,
   "metadata": {},
   "outputs": [],
   "source": [
    "from sklearn.impute import SimpleImputer"
   ]
  },
  {
   "cell_type": "code",
   "execution_count": 22,
   "metadata": {},
   "outputs": [],
   "source": [
    "## numerical processing pipeline\n",
    "import numpy as np\n",
    "numeric_processor=Pipeline(\n",
    "    steps=[(\"imputation_mean\",SimpleImputer(missing_values=np.nan,strategy=\"mean\")),\n",
    "          (\"scaler\",StandardScaler())]\n",
    "\n",
    ")"
   ]
  },
  {
   "cell_type": "code",
   "execution_count": 23,
   "metadata": {},
   "outputs": [
    {
     "data": {
      "text/html": [
       "<style>#sk-69b7c1b4-6915-4c8d-849f-5fd7d50fd160 {color: black;background-color: white;}#sk-69b7c1b4-6915-4c8d-849f-5fd7d50fd160 pre{padding: 0;}#sk-69b7c1b4-6915-4c8d-849f-5fd7d50fd160 div.sk-toggleable {background-color: white;}#sk-69b7c1b4-6915-4c8d-849f-5fd7d50fd160 label.sk-toggleable__label {cursor: pointer;display: block;width: 100%;margin-bottom: 0;padding: 0.3em;box-sizing: border-box;text-align: center;}#sk-69b7c1b4-6915-4c8d-849f-5fd7d50fd160 label.sk-toggleable__label-arrow:before {content: \"▸\";float: left;margin-right: 0.25em;color: #696969;}#sk-69b7c1b4-6915-4c8d-849f-5fd7d50fd160 label.sk-toggleable__label-arrow:hover:before {color: black;}#sk-69b7c1b4-6915-4c8d-849f-5fd7d50fd160 div.sk-estimator:hover label.sk-toggleable__label-arrow:before {color: black;}#sk-69b7c1b4-6915-4c8d-849f-5fd7d50fd160 div.sk-toggleable__content {max-height: 0;max-width: 0;overflow: hidden;text-align: left;background-color: #f0f8ff;}#sk-69b7c1b4-6915-4c8d-849f-5fd7d50fd160 div.sk-toggleable__content pre {margin: 0.2em;color: black;border-radius: 0.25em;background-color: #f0f8ff;}#sk-69b7c1b4-6915-4c8d-849f-5fd7d50fd160 input.sk-toggleable__control:checked~div.sk-toggleable__content {max-height: 200px;max-width: 100%;overflow: auto;}#sk-69b7c1b4-6915-4c8d-849f-5fd7d50fd160 input.sk-toggleable__control:checked~label.sk-toggleable__label-arrow:before {content: \"▾\";}#sk-69b7c1b4-6915-4c8d-849f-5fd7d50fd160 div.sk-estimator input.sk-toggleable__control:checked~label.sk-toggleable__label {background-color: #d4ebff;}#sk-69b7c1b4-6915-4c8d-849f-5fd7d50fd160 div.sk-label input.sk-toggleable__control:checked~label.sk-toggleable__label {background-color: #d4ebff;}#sk-69b7c1b4-6915-4c8d-849f-5fd7d50fd160 input.sk-hidden--visually {border: 0;clip: rect(1px 1px 1px 1px);clip: rect(1px, 1px, 1px, 1px);height: 1px;margin: -1px;overflow: hidden;padding: 0;position: absolute;width: 1px;}#sk-69b7c1b4-6915-4c8d-849f-5fd7d50fd160 div.sk-estimator {font-family: monospace;background-color: #f0f8ff;border: 1px dotted black;border-radius: 0.25em;box-sizing: border-box;margin-bottom: 0.5em;}#sk-69b7c1b4-6915-4c8d-849f-5fd7d50fd160 div.sk-estimator:hover {background-color: #d4ebff;}#sk-69b7c1b4-6915-4c8d-849f-5fd7d50fd160 div.sk-parallel-item::after {content: \"\";width: 100%;border-bottom: 1px solid gray;flex-grow: 1;}#sk-69b7c1b4-6915-4c8d-849f-5fd7d50fd160 div.sk-label:hover label.sk-toggleable__label {background-color: #d4ebff;}#sk-69b7c1b4-6915-4c8d-849f-5fd7d50fd160 div.sk-serial::before {content: \"\";position: absolute;border-left: 1px solid gray;box-sizing: border-box;top: 2em;bottom: 0;left: 50%;}#sk-69b7c1b4-6915-4c8d-849f-5fd7d50fd160 div.sk-serial {display: flex;flex-direction: column;align-items: center;background-color: white;padding-right: 0.2em;padding-left: 0.2em;}#sk-69b7c1b4-6915-4c8d-849f-5fd7d50fd160 div.sk-item {z-index: 1;}#sk-69b7c1b4-6915-4c8d-849f-5fd7d50fd160 div.sk-parallel {display: flex;align-items: stretch;justify-content: center;background-color: white;}#sk-69b7c1b4-6915-4c8d-849f-5fd7d50fd160 div.sk-parallel::before {content: \"\";position: absolute;border-left: 1px solid gray;box-sizing: border-box;top: 2em;bottom: 0;left: 50%;}#sk-69b7c1b4-6915-4c8d-849f-5fd7d50fd160 div.sk-parallel-item {display: flex;flex-direction: column;position: relative;background-color: white;}#sk-69b7c1b4-6915-4c8d-849f-5fd7d50fd160 div.sk-parallel-item:first-child::after {align-self: flex-end;width: 50%;}#sk-69b7c1b4-6915-4c8d-849f-5fd7d50fd160 div.sk-parallel-item:last-child::after {align-self: flex-start;width: 50%;}#sk-69b7c1b4-6915-4c8d-849f-5fd7d50fd160 div.sk-parallel-item:only-child::after {width: 0;}#sk-69b7c1b4-6915-4c8d-849f-5fd7d50fd160 div.sk-dashed-wrapped {border: 1px dashed gray;margin: 0 0.4em 0.5em 0.4em;box-sizing: border-box;padding-bottom: 0.4em;background-color: white;position: relative;}#sk-69b7c1b4-6915-4c8d-849f-5fd7d50fd160 div.sk-label label {font-family: monospace;font-weight: bold;background-color: white;display: inline-block;line-height: 1.2em;}#sk-69b7c1b4-6915-4c8d-849f-5fd7d50fd160 div.sk-label-container {position: relative;z-index: 2;text-align: center;}#sk-69b7c1b4-6915-4c8d-849f-5fd7d50fd160 div.sk-container {/* jupyter's `normalize.less` sets `[hidden] { display: none; }` but bootstrap.min.css set `[hidden] { display: none !important; }` so we also need the `!important` here to be able to override the default hidden behavior on the sphinx rendered scikit-learn.org. See: https://github.com/scikit-learn/scikit-learn/issues/21755 */display: inline-block !important;position: relative;}#sk-69b7c1b4-6915-4c8d-849f-5fd7d50fd160 div.sk-text-repr-fallback {display: none;}</style><div id=\"sk-69b7c1b4-6915-4c8d-849f-5fd7d50fd160\" class=\"sk-top-container\"><div class=\"sk-text-repr-fallback\"><pre>Pipeline(steps=[(&#x27;imputation_mean&#x27;, SimpleImputer()),\n",
       "                (&#x27;scaler&#x27;, StandardScaler())])</pre><b>Please rerun this cell to show the HTML repr or trust the notebook.</b></div><div class=\"sk-container\" hidden><div class=\"sk-item sk-dashed-wrapped\"><div class=\"sk-label-container\"><div class=\"sk-label sk-toggleable\"><input class=\"sk-toggleable__control sk-hidden--visually\" id=\"c0154d83-51e7-4fea-ae4c-7c8ba08361a7\" type=\"checkbox\" ><label for=\"c0154d83-51e7-4fea-ae4c-7c8ba08361a7\" class=\"sk-toggleable__label sk-toggleable__label-arrow\">Pipeline</label><div class=\"sk-toggleable__content\"><pre>Pipeline(steps=[(&#x27;imputation_mean&#x27;, SimpleImputer()),\n",
       "                (&#x27;scaler&#x27;, StandardScaler())])</pre></div></div></div><div class=\"sk-serial\"><div class=\"sk-item\"><div class=\"sk-estimator sk-toggleable\"><input class=\"sk-toggleable__control sk-hidden--visually\" id=\"bb05bee7-e355-4e3c-b69f-488e1fdc8343\" type=\"checkbox\" ><label for=\"bb05bee7-e355-4e3c-b69f-488e1fdc8343\" class=\"sk-toggleable__label sk-toggleable__label-arrow\">SimpleImputer</label><div class=\"sk-toggleable__content\"><pre>SimpleImputer()</pre></div></div></div><div class=\"sk-item\"><div class=\"sk-estimator sk-toggleable\"><input class=\"sk-toggleable__control sk-hidden--visually\" id=\"b571d988-5df7-4878-9a44-fba926fb4cca\" type=\"checkbox\" ><label for=\"b571d988-5df7-4878-9a44-fba926fb4cca\" class=\"sk-toggleable__label sk-toggleable__label-arrow\">StandardScaler</label><div class=\"sk-toggleable__content\"><pre>StandardScaler()</pre></div></div></div></div></div></div></div>"
      ],
      "text/plain": [
       "Pipeline(steps=[('imputation_mean', SimpleImputer()),\n",
       "                ('scaler', StandardScaler())])"
      ]
     },
     "execution_count": 23,
     "metadata": {},
     "output_type": "execute_result"
    }
   ],
   "source": [
    "numeric_processor"
   ]
  },
  {
   "cell_type": "code",
   "execution_count": 24,
   "metadata": {},
   "outputs": [],
   "source": [
    "##categorical procesing pipeline"
   ]
  },
  {
   "cell_type": "code",
   "execution_count": 25,
   "metadata": {},
   "outputs": [],
   "source": [
    "from sklearn.preprocessing import OneHotEncoder\n",
    "categorical_processor=Pipeline(\n",
    "    steps=[(\"imputation_consatnt\",SimpleImputer(fill_value=\"missing\",strategy=\"constant\")),\n",
    "          (\"onehot\",OneHotEncoder(handle_unknown=\"ignore\"))]\n",
    "\n",
    ")"
   ]
  },
  {
   "cell_type": "code",
   "execution_count": 26,
   "metadata": {},
   "outputs": [
    {
     "data": {
      "text/html": [
       "<style>#sk-252a3519-519b-4212-8126-42c70b9891dd {color: black;background-color: white;}#sk-252a3519-519b-4212-8126-42c70b9891dd pre{padding: 0;}#sk-252a3519-519b-4212-8126-42c70b9891dd div.sk-toggleable {background-color: white;}#sk-252a3519-519b-4212-8126-42c70b9891dd label.sk-toggleable__label {cursor: pointer;display: block;width: 100%;margin-bottom: 0;padding: 0.3em;box-sizing: border-box;text-align: center;}#sk-252a3519-519b-4212-8126-42c70b9891dd label.sk-toggleable__label-arrow:before {content: \"▸\";float: left;margin-right: 0.25em;color: #696969;}#sk-252a3519-519b-4212-8126-42c70b9891dd label.sk-toggleable__label-arrow:hover:before {color: black;}#sk-252a3519-519b-4212-8126-42c70b9891dd div.sk-estimator:hover label.sk-toggleable__label-arrow:before {color: black;}#sk-252a3519-519b-4212-8126-42c70b9891dd div.sk-toggleable__content {max-height: 0;max-width: 0;overflow: hidden;text-align: left;background-color: #f0f8ff;}#sk-252a3519-519b-4212-8126-42c70b9891dd div.sk-toggleable__content pre {margin: 0.2em;color: black;border-radius: 0.25em;background-color: #f0f8ff;}#sk-252a3519-519b-4212-8126-42c70b9891dd input.sk-toggleable__control:checked~div.sk-toggleable__content {max-height: 200px;max-width: 100%;overflow: auto;}#sk-252a3519-519b-4212-8126-42c70b9891dd input.sk-toggleable__control:checked~label.sk-toggleable__label-arrow:before {content: \"▾\";}#sk-252a3519-519b-4212-8126-42c70b9891dd div.sk-estimator input.sk-toggleable__control:checked~label.sk-toggleable__label {background-color: #d4ebff;}#sk-252a3519-519b-4212-8126-42c70b9891dd div.sk-label input.sk-toggleable__control:checked~label.sk-toggleable__label {background-color: #d4ebff;}#sk-252a3519-519b-4212-8126-42c70b9891dd input.sk-hidden--visually {border: 0;clip: rect(1px 1px 1px 1px);clip: rect(1px, 1px, 1px, 1px);height: 1px;margin: -1px;overflow: hidden;padding: 0;position: absolute;width: 1px;}#sk-252a3519-519b-4212-8126-42c70b9891dd div.sk-estimator {font-family: monospace;background-color: #f0f8ff;border: 1px dotted black;border-radius: 0.25em;box-sizing: border-box;margin-bottom: 0.5em;}#sk-252a3519-519b-4212-8126-42c70b9891dd div.sk-estimator:hover {background-color: #d4ebff;}#sk-252a3519-519b-4212-8126-42c70b9891dd div.sk-parallel-item::after {content: \"\";width: 100%;border-bottom: 1px solid gray;flex-grow: 1;}#sk-252a3519-519b-4212-8126-42c70b9891dd div.sk-label:hover label.sk-toggleable__label {background-color: #d4ebff;}#sk-252a3519-519b-4212-8126-42c70b9891dd div.sk-serial::before {content: \"\";position: absolute;border-left: 1px solid gray;box-sizing: border-box;top: 2em;bottom: 0;left: 50%;}#sk-252a3519-519b-4212-8126-42c70b9891dd div.sk-serial {display: flex;flex-direction: column;align-items: center;background-color: white;padding-right: 0.2em;padding-left: 0.2em;}#sk-252a3519-519b-4212-8126-42c70b9891dd div.sk-item {z-index: 1;}#sk-252a3519-519b-4212-8126-42c70b9891dd div.sk-parallel {display: flex;align-items: stretch;justify-content: center;background-color: white;}#sk-252a3519-519b-4212-8126-42c70b9891dd div.sk-parallel::before {content: \"\";position: absolute;border-left: 1px solid gray;box-sizing: border-box;top: 2em;bottom: 0;left: 50%;}#sk-252a3519-519b-4212-8126-42c70b9891dd div.sk-parallel-item {display: flex;flex-direction: column;position: relative;background-color: white;}#sk-252a3519-519b-4212-8126-42c70b9891dd div.sk-parallel-item:first-child::after {align-self: flex-end;width: 50%;}#sk-252a3519-519b-4212-8126-42c70b9891dd div.sk-parallel-item:last-child::after {align-self: flex-start;width: 50%;}#sk-252a3519-519b-4212-8126-42c70b9891dd div.sk-parallel-item:only-child::after {width: 0;}#sk-252a3519-519b-4212-8126-42c70b9891dd div.sk-dashed-wrapped {border: 1px dashed gray;margin: 0 0.4em 0.5em 0.4em;box-sizing: border-box;padding-bottom: 0.4em;background-color: white;position: relative;}#sk-252a3519-519b-4212-8126-42c70b9891dd div.sk-label label {font-family: monospace;font-weight: bold;background-color: white;display: inline-block;line-height: 1.2em;}#sk-252a3519-519b-4212-8126-42c70b9891dd div.sk-label-container {position: relative;z-index: 2;text-align: center;}#sk-252a3519-519b-4212-8126-42c70b9891dd div.sk-container {/* jupyter's `normalize.less` sets `[hidden] { display: none; }` but bootstrap.min.css set `[hidden] { display: none !important; }` so we also need the `!important` here to be able to override the default hidden behavior on the sphinx rendered scikit-learn.org. See: https://github.com/scikit-learn/scikit-learn/issues/21755 */display: inline-block !important;position: relative;}#sk-252a3519-519b-4212-8126-42c70b9891dd div.sk-text-repr-fallback {display: none;}</style><div id=\"sk-252a3519-519b-4212-8126-42c70b9891dd\" class=\"sk-top-container\"><div class=\"sk-text-repr-fallback\"><pre>Pipeline(steps=[(&#x27;imputation_consatnt&#x27;,\n",
       "                 SimpleImputer(fill_value=&#x27;missing&#x27;, strategy=&#x27;constant&#x27;)),\n",
       "                (&#x27;onehot&#x27;, OneHotEncoder(handle_unknown=&#x27;ignore&#x27;))])</pre><b>Please rerun this cell to show the HTML repr or trust the notebook.</b></div><div class=\"sk-container\" hidden><div class=\"sk-item sk-dashed-wrapped\"><div class=\"sk-label-container\"><div class=\"sk-label sk-toggleable\"><input class=\"sk-toggleable__control sk-hidden--visually\" id=\"84e6b7a1-c390-4888-aee1-8a2b0e6ff9b9\" type=\"checkbox\" ><label for=\"84e6b7a1-c390-4888-aee1-8a2b0e6ff9b9\" class=\"sk-toggleable__label sk-toggleable__label-arrow\">Pipeline</label><div class=\"sk-toggleable__content\"><pre>Pipeline(steps=[(&#x27;imputation_consatnt&#x27;,\n",
       "                 SimpleImputer(fill_value=&#x27;missing&#x27;, strategy=&#x27;constant&#x27;)),\n",
       "                (&#x27;onehot&#x27;, OneHotEncoder(handle_unknown=&#x27;ignore&#x27;))])</pre></div></div></div><div class=\"sk-serial\"><div class=\"sk-item\"><div class=\"sk-estimator sk-toggleable\"><input class=\"sk-toggleable__control sk-hidden--visually\" id=\"7cc1f98a-76dd-494b-9ac1-1f2c7d776b0b\" type=\"checkbox\" ><label for=\"7cc1f98a-76dd-494b-9ac1-1f2c7d776b0b\" class=\"sk-toggleable__label sk-toggleable__label-arrow\">SimpleImputer</label><div class=\"sk-toggleable__content\"><pre>SimpleImputer(fill_value=&#x27;missing&#x27;, strategy=&#x27;constant&#x27;)</pre></div></div></div><div class=\"sk-item\"><div class=\"sk-estimator sk-toggleable\"><input class=\"sk-toggleable__control sk-hidden--visually\" id=\"77a90f44-eb0d-4245-8e69-ce23aed62aeb\" type=\"checkbox\" ><label for=\"77a90f44-eb0d-4245-8e69-ce23aed62aeb\" class=\"sk-toggleable__label sk-toggleable__label-arrow\">OneHotEncoder</label><div class=\"sk-toggleable__content\"><pre>OneHotEncoder(handle_unknown=&#x27;ignore&#x27;)</pre></div></div></div></div></div></div></div>"
      ],
      "text/plain": [
       "Pipeline(steps=[('imputation_consatnt',\n",
       "                 SimpleImputer(fill_value='missing', strategy='constant')),\n",
       "                ('onehot', OneHotEncoder(handle_unknown='ignore'))])"
      ]
     },
     "execution_count": 26,
     "metadata": {},
     "output_type": "execute_result"
    }
   ],
   "source": [
    "categorical_processor"
   ]
  },
  {
   "cell_type": "code",
   "execution_count": 27,
   "metadata": {},
   "outputs": [],
   "source": [
    "## combine processing technqiues\n",
    "from sklearn.compose import ColumnTransformer"
   ]
  },
  {
   "cell_type": "code",
   "execution_count": 28,
   "metadata": {},
   "outputs": [],
   "source": [
    "preprocessor=ColumnTransformer(\n",
    "    [(\"categorical\",categorical_processor,[\"gender\",\"City\"]),\n",
    "    (\"numerical\",numeric_processor,[\"age\",\"height\"])]\n",
    ")"
   ]
  },
  {
   "cell_type": "code",
   "execution_count": 29,
   "metadata": {},
   "outputs": [
    {
     "data": {
      "text/html": [
       "<style>#sk-2f33a35a-57b6-4eb1-861a-3ee420b49e93 {color: black;background-color: white;}#sk-2f33a35a-57b6-4eb1-861a-3ee420b49e93 pre{padding: 0;}#sk-2f33a35a-57b6-4eb1-861a-3ee420b49e93 div.sk-toggleable {background-color: white;}#sk-2f33a35a-57b6-4eb1-861a-3ee420b49e93 label.sk-toggleable__label {cursor: pointer;display: block;width: 100%;margin-bottom: 0;padding: 0.3em;box-sizing: border-box;text-align: center;}#sk-2f33a35a-57b6-4eb1-861a-3ee420b49e93 label.sk-toggleable__label-arrow:before {content: \"▸\";float: left;margin-right: 0.25em;color: #696969;}#sk-2f33a35a-57b6-4eb1-861a-3ee420b49e93 label.sk-toggleable__label-arrow:hover:before {color: black;}#sk-2f33a35a-57b6-4eb1-861a-3ee420b49e93 div.sk-estimator:hover label.sk-toggleable__label-arrow:before {color: black;}#sk-2f33a35a-57b6-4eb1-861a-3ee420b49e93 div.sk-toggleable__content {max-height: 0;max-width: 0;overflow: hidden;text-align: left;background-color: #f0f8ff;}#sk-2f33a35a-57b6-4eb1-861a-3ee420b49e93 div.sk-toggleable__content pre {margin: 0.2em;color: black;border-radius: 0.25em;background-color: #f0f8ff;}#sk-2f33a35a-57b6-4eb1-861a-3ee420b49e93 input.sk-toggleable__control:checked~div.sk-toggleable__content {max-height: 200px;max-width: 100%;overflow: auto;}#sk-2f33a35a-57b6-4eb1-861a-3ee420b49e93 input.sk-toggleable__control:checked~label.sk-toggleable__label-arrow:before {content: \"▾\";}#sk-2f33a35a-57b6-4eb1-861a-3ee420b49e93 div.sk-estimator input.sk-toggleable__control:checked~label.sk-toggleable__label {background-color: #d4ebff;}#sk-2f33a35a-57b6-4eb1-861a-3ee420b49e93 div.sk-label input.sk-toggleable__control:checked~label.sk-toggleable__label {background-color: #d4ebff;}#sk-2f33a35a-57b6-4eb1-861a-3ee420b49e93 input.sk-hidden--visually {border: 0;clip: rect(1px 1px 1px 1px);clip: rect(1px, 1px, 1px, 1px);height: 1px;margin: -1px;overflow: hidden;padding: 0;position: absolute;width: 1px;}#sk-2f33a35a-57b6-4eb1-861a-3ee420b49e93 div.sk-estimator {font-family: monospace;background-color: #f0f8ff;border: 1px dotted black;border-radius: 0.25em;box-sizing: border-box;margin-bottom: 0.5em;}#sk-2f33a35a-57b6-4eb1-861a-3ee420b49e93 div.sk-estimator:hover {background-color: #d4ebff;}#sk-2f33a35a-57b6-4eb1-861a-3ee420b49e93 div.sk-parallel-item::after {content: \"\";width: 100%;border-bottom: 1px solid gray;flex-grow: 1;}#sk-2f33a35a-57b6-4eb1-861a-3ee420b49e93 div.sk-label:hover label.sk-toggleable__label {background-color: #d4ebff;}#sk-2f33a35a-57b6-4eb1-861a-3ee420b49e93 div.sk-serial::before {content: \"\";position: absolute;border-left: 1px solid gray;box-sizing: border-box;top: 2em;bottom: 0;left: 50%;}#sk-2f33a35a-57b6-4eb1-861a-3ee420b49e93 div.sk-serial {display: flex;flex-direction: column;align-items: center;background-color: white;padding-right: 0.2em;padding-left: 0.2em;}#sk-2f33a35a-57b6-4eb1-861a-3ee420b49e93 div.sk-item {z-index: 1;}#sk-2f33a35a-57b6-4eb1-861a-3ee420b49e93 div.sk-parallel {display: flex;align-items: stretch;justify-content: center;background-color: white;}#sk-2f33a35a-57b6-4eb1-861a-3ee420b49e93 div.sk-parallel::before {content: \"\";position: absolute;border-left: 1px solid gray;box-sizing: border-box;top: 2em;bottom: 0;left: 50%;}#sk-2f33a35a-57b6-4eb1-861a-3ee420b49e93 div.sk-parallel-item {display: flex;flex-direction: column;position: relative;background-color: white;}#sk-2f33a35a-57b6-4eb1-861a-3ee420b49e93 div.sk-parallel-item:first-child::after {align-self: flex-end;width: 50%;}#sk-2f33a35a-57b6-4eb1-861a-3ee420b49e93 div.sk-parallel-item:last-child::after {align-self: flex-start;width: 50%;}#sk-2f33a35a-57b6-4eb1-861a-3ee420b49e93 div.sk-parallel-item:only-child::after {width: 0;}#sk-2f33a35a-57b6-4eb1-861a-3ee420b49e93 div.sk-dashed-wrapped {border: 1px dashed gray;margin: 0 0.4em 0.5em 0.4em;box-sizing: border-box;padding-bottom: 0.4em;background-color: white;position: relative;}#sk-2f33a35a-57b6-4eb1-861a-3ee420b49e93 div.sk-label label {font-family: monospace;font-weight: bold;background-color: white;display: inline-block;line-height: 1.2em;}#sk-2f33a35a-57b6-4eb1-861a-3ee420b49e93 div.sk-label-container {position: relative;z-index: 2;text-align: center;}#sk-2f33a35a-57b6-4eb1-861a-3ee420b49e93 div.sk-container {/* jupyter's `normalize.less` sets `[hidden] { display: none; }` but bootstrap.min.css set `[hidden] { display: none !important; }` so we also need the `!important` here to be able to override the default hidden behavior on the sphinx rendered scikit-learn.org. See: https://github.com/scikit-learn/scikit-learn/issues/21755 */display: inline-block !important;position: relative;}#sk-2f33a35a-57b6-4eb1-861a-3ee420b49e93 div.sk-text-repr-fallback {display: none;}</style><div id=\"sk-2f33a35a-57b6-4eb1-861a-3ee420b49e93\" class=\"sk-top-container\"><div class=\"sk-text-repr-fallback\"><pre>ColumnTransformer(transformers=[(&#x27;categorical&#x27;,\n",
       "                                 Pipeline(steps=[(&#x27;imputation_consatnt&#x27;,\n",
       "                                                  SimpleImputer(fill_value=&#x27;missing&#x27;,\n",
       "                                                                strategy=&#x27;constant&#x27;)),\n",
       "                                                 (&#x27;onehot&#x27;,\n",
       "                                                  OneHotEncoder(handle_unknown=&#x27;ignore&#x27;))]),\n",
       "                                 [&#x27;gender&#x27;, &#x27;City&#x27;]),\n",
       "                                (&#x27;numerical&#x27;,\n",
       "                                 Pipeline(steps=[(&#x27;imputation_mean&#x27;,\n",
       "                                                  SimpleImputer()),\n",
       "                                                 (&#x27;scaler&#x27;, StandardScaler())]),\n",
       "                                 [&#x27;age&#x27;, &#x27;height&#x27;])])</pre><b>Please rerun this cell to show the HTML repr or trust the notebook.</b></div><div class=\"sk-container\" hidden><div class=\"sk-item sk-dashed-wrapped\"><div class=\"sk-label-container\"><div class=\"sk-label sk-toggleable\"><input class=\"sk-toggleable__control sk-hidden--visually\" id=\"0683f38d-6a8c-4ef7-b77f-76f5fb99c145\" type=\"checkbox\" ><label for=\"0683f38d-6a8c-4ef7-b77f-76f5fb99c145\" class=\"sk-toggleable__label sk-toggleable__label-arrow\">ColumnTransformer</label><div class=\"sk-toggleable__content\"><pre>ColumnTransformer(transformers=[(&#x27;categorical&#x27;,\n",
       "                                 Pipeline(steps=[(&#x27;imputation_consatnt&#x27;,\n",
       "                                                  SimpleImputer(fill_value=&#x27;missing&#x27;,\n",
       "                                                                strategy=&#x27;constant&#x27;)),\n",
       "                                                 (&#x27;onehot&#x27;,\n",
       "                                                  OneHotEncoder(handle_unknown=&#x27;ignore&#x27;))]),\n",
       "                                 [&#x27;gender&#x27;, &#x27;City&#x27;]),\n",
       "                                (&#x27;numerical&#x27;,\n",
       "                                 Pipeline(steps=[(&#x27;imputation_mean&#x27;,\n",
       "                                                  SimpleImputer()),\n",
       "                                                 (&#x27;scaler&#x27;, StandardScaler())]),\n",
       "                                 [&#x27;age&#x27;, &#x27;height&#x27;])])</pre></div></div></div><div class=\"sk-parallel\"><div class=\"sk-parallel-item\"><div class=\"sk-item\"><div class=\"sk-label-container\"><div class=\"sk-label sk-toggleable\"><input class=\"sk-toggleable__control sk-hidden--visually\" id=\"9ad90de2-b55d-457a-9e97-bf60187ab2c5\" type=\"checkbox\" ><label for=\"9ad90de2-b55d-457a-9e97-bf60187ab2c5\" class=\"sk-toggleable__label sk-toggleable__label-arrow\">categorical</label><div class=\"sk-toggleable__content\"><pre>[&#x27;gender&#x27;, &#x27;City&#x27;]</pre></div></div></div><div class=\"sk-serial\"><div class=\"sk-item\"><div class=\"sk-serial\"><div class=\"sk-item\"><div class=\"sk-estimator sk-toggleable\"><input class=\"sk-toggleable__control sk-hidden--visually\" id=\"c9eee016-bfca-44fb-9e29-f3df6271edb8\" type=\"checkbox\" ><label for=\"c9eee016-bfca-44fb-9e29-f3df6271edb8\" class=\"sk-toggleable__label sk-toggleable__label-arrow\">SimpleImputer</label><div class=\"sk-toggleable__content\"><pre>SimpleImputer(fill_value=&#x27;missing&#x27;, strategy=&#x27;constant&#x27;)</pre></div></div></div><div class=\"sk-item\"><div class=\"sk-estimator sk-toggleable\"><input class=\"sk-toggleable__control sk-hidden--visually\" id=\"7b30cf51-6bd9-41f2-bc36-f723cc24f357\" type=\"checkbox\" ><label for=\"7b30cf51-6bd9-41f2-bc36-f723cc24f357\" class=\"sk-toggleable__label sk-toggleable__label-arrow\">OneHotEncoder</label><div class=\"sk-toggleable__content\"><pre>OneHotEncoder(handle_unknown=&#x27;ignore&#x27;)</pre></div></div></div></div></div></div></div></div><div class=\"sk-parallel-item\"><div class=\"sk-item\"><div class=\"sk-label-container\"><div class=\"sk-label sk-toggleable\"><input class=\"sk-toggleable__control sk-hidden--visually\" id=\"ceb9d708-6a4b-437b-8b12-9386954b1bbc\" type=\"checkbox\" ><label for=\"ceb9d708-6a4b-437b-8b12-9386954b1bbc\" class=\"sk-toggleable__label sk-toggleable__label-arrow\">numerical</label><div class=\"sk-toggleable__content\"><pre>[&#x27;age&#x27;, &#x27;height&#x27;]</pre></div></div></div><div class=\"sk-serial\"><div class=\"sk-item\"><div class=\"sk-serial\"><div class=\"sk-item\"><div class=\"sk-estimator sk-toggleable\"><input class=\"sk-toggleable__control sk-hidden--visually\" id=\"ad38d78d-8a51-4297-bd64-f8be264888ae\" type=\"checkbox\" ><label for=\"ad38d78d-8a51-4297-bd64-f8be264888ae\" class=\"sk-toggleable__label sk-toggleable__label-arrow\">SimpleImputer</label><div class=\"sk-toggleable__content\"><pre>SimpleImputer()</pre></div></div></div><div class=\"sk-item\"><div class=\"sk-estimator sk-toggleable\"><input class=\"sk-toggleable__control sk-hidden--visually\" id=\"54ba93f3-ca1a-48d7-a94e-7190197f5fd4\" type=\"checkbox\" ><label for=\"54ba93f3-ca1a-48d7-a94e-7190197f5fd4\" class=\"sk-toggleable__label sk-toggleable__label-arrow\">StandardScaler</label><div class=\"sk-toggleable__content\"><pre>StandardScaler()</pre></div></div></div></div></div></div></div></div></div></div></div></div>"
      ],
      "text/plain": [
       "ColumnTransformer(transformers=[('categorical',\n",
       "                                 Pipeline(steps=[('imputation_consatnt',\n",
       "                                                  SimpleImputer(fill_value='missing',\n",
       "                                                                strategy='constant')),\n",
       "                                                 ('onehot',\n",
       "                                                  OneHotEncoder(handle_unknown='ignore'))]),\n",
       "                                 ['gender', 'City']),\n",
       "                                ('numerical',\n",
       "                                 Pipeline(steps=[('imputation_mean',\n",
       "                                                  SimpleImputer()),\n",
       "                                                 ('scaler', StandardScaler())]),\n",
       "                                 ['age', 'height'])])"
      ]
     },
     "execution_count": 29,
     "metadata": {},
     "output_type": "execute_result"
    }
   ],
   "source": [
    "preprocessor"
   ]
  },
  {
   "cell_type": "code",
   "execution_count": 32,
   "metadata": {},
   "outputs": [],
   "source": [
    "from sklearn.pipeline import make_pipeline"
   ]
  },
  {
   "cell_type": "code",
   "execution_count": 33,
   "metadata": {},
   "outputs": [],
   "source": [
    "pipe3=make_pipeline(preprocessor,LogisticRegression())"
   ]
  },
  {
   "cell_type": "code",
   "execution_count": 34,
   "metadata": {},
   "outputs": [
    {
     "data": {
      "text/html": [
       "<style>#sk-4048c4d4-448d-4030-aa9f-54e77394094f {color: black;background-color: white;}#sk-4048c4d4-448d-4030-aa9f-54e77394094f pre{padding: 0;}#sk-4048c4d4-448d-4030-aa9f-54e77394094f div.sk-toggleable {background-color: white;}#sk-4048c4d4-448d-4030-aa9f-54e77394094f label.sk-toggleable__label {cursor: pointer;display: block;width: 100%;margin-bottom: 0;padding: 0.3em;box-sizing: border-box;text-align: center;}#sk-4048c4d4-448d-4030-aa9f-54e77394094f label.sk-toggleable__label-arrow:before {content: \"▸\";float: left;margin-right: 0.25em;color: #696969;}#sk-4048c4d4-448d-4030-aa9f-54e77394094f label.sk-toggleable__label-arrow:hover:before {color: black;}#sk-4048c4d4-448d-4030-aa9f-54e77394094f div.sk-estimator:hover label.sk-toggleable__label-arrow:before {color: black;}#sk-4048c4d4-448d-4030-aa9f-54e77394094f div.sk-toggleable__content {max-height: 0;max-width: 0;overflow: hidden;text-align: left;background-color: #f0f8ff;}#sk-4048c4d4-448d-4030-aa9f-54e77394094f div.sk-toggleable__content pre {margin: 0.2em;color: black;border-radius: 0.25em;background-color: #f0f8ff;}#sk-4048c4d4-448d-4030-aa9f-54e77394094f input.sk-toggleable__control:checked~div.sk-toggleable__content {max-height: 200px;max-width: 100%;overflow: auto;}#sk-4048c4d4-448d-4030-aa9f-54e77394094f input.sk-toggleable__control:checked~label.sk-toggleable__label-arrow:before {content: \"▾\";}#sk-4048c4d4-448d-4030-aa9f-54e77394094f div.sk-estimator input.sk-toggleable__control:checked~label.sk-toggleable__label {background-color: #d4ebff;}#sk-4048c4d4-448d-4030-aa9f-54e77394094f div.sk-label input.sk-toggleable__control:checked~label.sk-toggleable__label {background-color: #d4ebff;}#sk-4048c4d4-448d-4030-aa9f-54e77394094f input.sk-hidden--visually {border: 0;clip: rect(1px 1px 1px 1px);clip: rect(1px, 1px, 1px, 1px);height: 1px;margin: -1px;overflow: hidden;padding: 0;position: absolute;width: 1px;}#sk-4048c4d4-448d-4030-aa9f-54e77394094f div.sk-estimator {font-family: monospace;background-color: #f0f8ff;border: 1px dotted black;border-radius: 0.25em;box-sizing: border-box;margin-bottom: 0.5em;}#sk-4048c4d4-448d-4030-aa9f-54e77394094f div.sk-estimator:hover {background-color: #d4ebff;}#sk-4048c4d4-448d-4030-aa9f-54e77394094f div.sk-parallel-item::after {content: \"\";width: 100%;border-bottom: 1px solid gray;flex-grow: 1;}#sk-4048c4d4-448d-4030-aa9f-54e77394094f div.sk-label:hover label.sk-toggleable__label {background-color: #d4ebff;}#sk-4048c4d4-448d-4030-aa9f-54e77394094f div.sk-serial::before {content: \"\";position: absolute;border-left: 1px solid gray;box-sizing: border-box;top: 2em;bottom: 0;left: 50%;}#sk-4048c4d4-448d-4030-aa9f-54e77394094f div.sk-serial {display: flex;flex-direction: column;align-items: center;background-color: white;padding-right: 0.2em;padding-left: 0.2em;}#sk-4048c4d4-448d-4030-aa9f-54e77394094f div.sk-item {z-index: 1;}#sk-4048c4d4-448d-4030-aa9f-54e77394094f div.sk-parallel {display: flex;align-items: stretch;justify-content: center;background-color: white;}#sk-4048c4d4-448d-4030-aa9f-54e77394094f div.sk-parallel::before {content: \"\";position: absolute;border-left: 1px solid gray;box-sizing: border-box;top: 2em;bottom: 0;left: 50%;}#sk-4048c4d4-448d-4030-aa9f-54e77394094f div.sk-parallel-item {display: flex;flex-direction: column;position: relative;background-color: white;}#sk-4048c4d4-448d-4030-aa9f-54e77394094f div.sk-parallel-item:first-child::after {align-self: flex-end;width: 50%;}#sk-4048c4d4-448d-4030-aa9f-54e77394094f div.sk-parallel-item:last-child::after {align-self: flex-start;width: 50%;}#sk-4048c4d4-448d-4030-aa9f-54e77394094f div.sk-parallel-item:only-child::after {width: 0;}#sk-4048c4d4-448d-4030-aa9f-54e77394094f div.sk-dashed-wrapped {border: 1px dashed gray;margin: 0 0.4em 0.5em 0.4em;box-sizing: border-box;padding-bottom: 0.4em;background-color: white;position: relative;}#sk-4048c4d4-448d-4030-aa9f-54e77394094f div.sk-label label {font-family: monospace;font-weight: bold;background-color: white;display: inline-block;line-height: 1.2em;}#sk-4048c4d4-448d-4030-aa9f-54e77394094f div.sk-label-container {position: relative;z-index: 2;text-align: center;}#sk-4048c4d4-448d-4030-aa9f-54e77394094f div.sk-container {/* jupyter's `normalize.less` sets `[hidden] { display: none; }` but bootstrap.min.css set `[hidden] { display: none !important; }` so we also need the `!important` here to be able to override the default hidden behavior on the sphinx rendered scikit-learn.org. See: https://github.com/scikit-learn/scikit-learn/issues/21755 */display: inline-block !important;position: relative;}#sk-4048c4d4-448d-4030-aa9f-54e77394094f div.sk-text-repr-fallback {display: none;}</style><div id=\"sk-4048c4d4-448d-4030-aa9f-54e77394094f\" class=\"sk-top-container\"><div class=\"sk-text-repr-fallback\"><pre>Pipeline(steps=[(&#x27;columntransformer&#x27;,\n",
       "                 ColumnTransformer(transformers=[(&#x27;categorical&#x27;,\n",
       "                                                  Pipeline(steps=[(&#x27;imputation_consatnt&#x27;,\n",
       "                                                                   SimpleImputer(fill_value=&#x27;missing&#x27;,\n",
       "                                                                                 strategy=&#x27;constant&#x27;)),\n",
       "                                                                  (&#x27;onehot&#x27;,\n",
       "                                                                   OneHotEncoder(handle_unknown=&#x27;ignore&#x27;))]),\n",
       "                                                  [&#x27;gender&#x27;, &#x27;City&#x27;]),\n",
       "                                                 (&#x27;numerical&#x27;,\n",
       "                                                  Pipeline(steps=[(&#x27;imputation_mean&#x27;,\n",
       "                                                                   SimpleImputer()),\n",
       "                                                                  (&#x27;scaler&#x27;,\n",
       "                                                                   StandardScaler())]),\n",
       "                                                  [&#x27;age&#x27;, &#x27;height&#x27;])])),\n",
       "                (&#x27;logisticregression&#x27;, LogisticRegression())])</pre><b>Please rerun this cell to show the HTML repr or trust the notebook.</b></div><div class=\"sk-container\" hidden><div class=\"sk-item sk-dashed-wrapped\"><div class=\"sk-label-container\"><div class=\"sk-label sk-toggleable\"><input class=\"sk-toggleable__control sk-hidden--visually\" id=\"e1d23c10-714c-48b6-8b31-34eaf99d194c\" type=\"checkbox\" ><label for=\"e1d23c10-714c-48b6-8b31-34eaf99d194c\" class=\"sk-toggleable__label sk-toggleable__label-arrow\">Pipeline</label><div class=\"sk-toggleable__content\"><pre>Pipeline(steps=[(&#x27;columntransformer&#x27;,\n",
       "                 ColumnTransformer(transformers=[(&#x27;categorical&#x27;,\n",
       "                                                  Pipeline(steps=[(&#x27;imputation_consatnt&#x27;,\n",
       "                                                                   SimpleImputer(fill_value=&#x27;missing&#x27;,\n",
       "                                                                                 strategy=&#x27;constant&#x27;)),\n",
       "                                                                  (&#x27;onehot&#x27;,\n",
       "                                                                   OneHotEncoder(handle_unknown=&#x27;ignore&#x27;))]),\n",
       "                                                  [&#x27;gender&#x27;, &#x27;City&#x27;]),\n",
       "                                                 (&#x27;numerical&#x27;,\n",
       "                                                  Pipeline(steps=[(&#x27;imputation_mean&#x27;,\n",
       "                                                                   SimpleImputer()),\n",
       "                                                                  (&#x27;scaler&#x27;,\n",
       "                                                                   StandardScaler())]),\n",
       "                                                  [&#x27;age&#x27;, &#x27;height&#x27;])])),\n",
       "                (&#x27;logisticregression&#x27;, LogisticRegression())])</pre></div></div></div><div class=\"sk-serial\"><div class=\"sk-item sk-dashed-wrapped\"><div class=\"sk-label-container\"><div class=\"sk-label sk-toggleable\"><input class=\"sk-toggleable__control sk-hidden--visually\" id=\"83c649a8-fab0-44b7-bc39-a5a6022751eb\" type=\"checkbox\" ><label for=\"83c649a8-fab0-44b7-bc39-a5a6022751eb\" class=\"sk-toggleable__label sk-toggleable__label-arrow\">columntransformer: ColumnTransformer</label><div class=\"sk-toggleable__content\"><pre>ColumnTransformer(transformers=[(&#x27;categorical&#x27;,\n",
       "                                 Pipeline(steps=[(&#x27;imputation_consatnt&#x27;,\n",
       "                                                  SimpleImputer(fill_value=&#x27;missing&#x27;,\n",
       "                                                                strategy=&#x27;constant&#x27;)),\n",
       "                                                 (&#x27;onehot&#x27;,\n",
       "                                                  OneHotEncoder(handle_unknown=&#x27;ignore&#x27;))]),\n",
       "                                 [&#x27;gender&#x27;, &#x27;City&#x27;]),\n",
       "                                (&#x27;numerical&#x27;,\n",
       "                                 Pipeline(steps=[(&#x27;imputation_mean&#x27;,\n",
       "                                                  SimpleImputer()),\n",
       "                                                 (&#x27;scaler&#x27;, StandardScaler())]),\n",
       "                                 [&#x27;age&#x27;, &#x27;height&#x27;])])</pre></div></div></div><div class=\"sk-parallel\"><div class=\"sk-parallel-item\"><div class=\"sk-item\"><div class=\"sk-label-container\"><div class=\"sk-label sk-toggleable\"><input class=\"sk-toggleable__control sk-hidden--visually\" id=\"6f01005c-a1e2-422d-a29d-888bcd70af96\" type=\"checkbox\" ><label for=\"6f01005c-a1e2-422d-a29d-888bcd70af96\" class=\"sk-toggleable__label sk-toggleable__label-arrow\">categorical</label><div class=\"sk-toggleable__content\"><pre>[&#x27;gender&#x27;, &#x27;City&#x27;]</pre></div></div></div><div class=\"sk-serial\"><div class=\"sk-item\"><div class=\"sk-serial\"><div class=\"sk-item\"><div class=\"sk-estimator sk-toggleable\"><input class=\"sk-toggleable__control sk-hidden--visually\" id=\"383bfab0-071e-4621-b3c5-6a244198a0e4\" type=\"checkbox\" ><label for=\"383bfab0-071e-4621-b3c5-6a244198a0e4\" class=\"sk-toggleable__label sk-toggleable__label-arrow\">SimpleImputer</label><div class=\"sk-toggleable__content\"><pre>SimpleImputer(fill_value=&#x27;missing&#x27;, strategy=&#x27;constant&#x27;)</pre></div></div></div><div class=\"sk-item\"><div class=\"sk-estimator sk-toggleable\"><input class=\"sk-toggleable__control sk-hidden--visually\" id=\"b212f57e-5e6e-4b64-8e8d-8ec606133742\" type=\"checkbox\" ><label for=\"b212f57e-5e6e-4b64-8e8d-8ec606133742\" class=\"sk-toggleable__label sk-toggleable__label-arrow\">OneHotEncoder</label><div class=\"sk-toggleable__content\"><pre>OneHotEncoder(handle_unknown=&#x27;ignore&#x27;)</pre></div></div></div></div></div></div></div></div><div class=\"sk-parallel-item\"><div class=\"sk-item\"><div class=\"sk-label-container\"><div class=\"sk-label sk-toggleable\"><input class=\"sk-toggleable__control sk-hidden--visually\" id=\"8526cf22-86cf-4088-82b9-b3d96199e4cd\" type=\"checkbox\" ><label for=\"8526cf22-86cf-4088-82b9-b3d96199e4cd\" class=\"sk-toggleable__label sk-toggleable__label-arrow\">numerical</label><div class=\"sk-toggleable__content\"><pre>[&#x27;age&#x27;, &#x27;height&#x27;]</pre></div></div></div><div class=\"sk-serial\"><div class=\"sk-item\"><div class=\"sk-serial\"><div class=\"sk-item\"><div class=\"sk-estimator sk-toggleable\"><input class=\"sk-toggleable__control sk-hidden--visually\" id=\"31d8415d-6833-4257-83d2-5ac04864b91a\" type=\"checkbox\" ><label for=\"31d8415d-6833-4257-83d2-5ac04864b91a\" class=\"sk-toggleable__label sk-toggleable__label-arrow\">SimpleImputer</label><div class=\"sk-toggleable__content\"><pre>SimpleImputer()</pre></div></div></div><div class=\"sk-item\"><div class=\"sk-estimator sk-toggleable\"><input class=\"sk-toggleable__control sk-hidden--visually\" id=\"cbb122c1-9006-4078-bfaf-3e12fde3ef77\" type=\"checkbox\" ><label for=\"cbb122c1-9006-4078-bfaf-3e12fde3ef77\" class=\"sk-toggleable__label sk-toggleable__label-arrow\">StandardScaler</label><div class=\"sk-toggleable__content\"><pre>StandardScaler()</pre></div></div></div></div></div></div></div></div></div></div><div class=\"sk-item\"><div class=\"sk-estimator sk-toggleable\"><input class=\"sk-toggleable__control sk-hidden--visually\" id=\"3b988a69-0f74-404d-b6f3-47eed01661d2\" type=\"checkbox\" ><label for=\"3b988a69-0f74-404d-b6f3-47eed01661d2\" class=\"sk-toggleable__label sk-toggleable__label-arrow\">LogisticRegression</label><div class=\"sk-toggleable__content\"><pre>LogisticRegression()</pre></div></div></div></div></div></div></div>"
      ],
      "text/plain": [
       "Pipeline(steps=[('columntransformer',\n",
       "                 ColumnTransformer(transformers=[('categorical',\n",
       "                                                  Pipeline(steps=[('imputation_consatnt',\n",
       "                                                                   SimpleImputer(fill_value='missing',\n",
       "                                                                                 strategy='constant')),\n",
       "                                                                  ('onehot',\n",
       "                                                                   OneHotEncoder(handle_unknown='ignore'))]),\n",
       "                                                  ['gender', 'City']),\n",
       "                                                 ('numerical',\n",
       "                                                  Pipeline(steps=[('imputation_mean',\n",
       "                                                                   SimpleImputer()),\n",
       "                                                                  ('scaler',\n",
       "                                                                   StandardScaler())]),\n",
       "                                                  ['age', 'height'])])),\n",
       "                ('logisticregression', LogisticRegression())])"
      ]
     },
     "execution_count": 34,
     "metadata": {},
     "output_type": "execute_result"
    }
   ],
   "source": [
    "pipe3"
   ]
  },
  {
   "cell_type": "code",
   "execution_count": null,
   "metadata": {},
   "outputs": [],
   "source": []
  },
  {
   "cell_type": "code",
   "execution_count": null,
   "metadata": {},
   "outputs": [],
   "source": []
  },
  {
   "cell_type": "code",
   "execution_count": null,
   "metadata": {},
   "outputs": [],
   "source": []
  }
 ],
 "metadata": {
  "kernelspec": {
   "display_name": "Python 3 (ipykernel)",
   "language": "python",
   "name": "python3"
  },
  "language_info": {
   "codemirror_mode": {
    "name": "ipython",
    "version": 3
   },
   "file_extension": ".py",
   "mimetype": "text/x-python",
   "name": "python",
   "nbconvert_exporter": "python",
   "pygments_lexer": "ipython3",
   "version": "3.9.12"
  }
 },
 "nbformat": 4,
 "nbformat_minor": 4
}
